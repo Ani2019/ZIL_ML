{
 "cells": [
  {
   "cell_type": "markdown",
   "metadata": {},
   "source": [
    "### 1. Create abstract class named \"Shape2D\" with abstract method \"get_Area\" and \"get_Perimeter\". In constructor pass variable dim=2 default value. Create subclasses \"Circle\", \"Triangle\", \"Paralellogram\". Each of the constructors should override the Base constructor and add case specific variables passes by argument."
   ]
  },
  {
   "cell_type": "code",
   "execution_count": null,
   "metadata": {},
   "outputs": [],
   "source": [
    "#implement class"
   ]
  },
  {
   "cell_type": "code",
   "execution_count": null,
   "metadata": {},
   "outputs": [],
   "source": [
    "#create class instances and test"
   ]
  },
  {
   "cell_type": "markdown",
   "metadata": {},
   "source": [
    "### 2.1. Create class \"Matrix\", initialize it with params \"nrows\" and \"ncols\" ( number of rows, number of columns). Define a class method \"create_matrix\" which takes a list of integers as argument and creates a list of lists (matrix) with the given nrows and ncols."
   ]
  },
  {
   "cell_type": "code",
   "execution_count": null,
   "metadata": {},
   "outputs": [],
   "source": [
    "#implement class"
   ]
  },
  {
   "cell_type": "code",
   "execution_count": null,
   "metadata": {},
   "outputs": [],
   "source": [
    "#create class instances and test"
   ]
  },
  {
   "cell_type": "markdown",
   "metadata": {},
   "source": [
    "### 2.2. Implement operator in the same Matrix class. Overload operator * with proper matrix multiplication. (We have already implemented that during previous class, remember? Use that!)"
   ]
  },
  {
   "cell_type": "code",
   "execution_count": null,
   "metadata": {},
   "outputs": [],
   "source": [
    "#implement class"
   ]
  },
  {
   "cell_type": "code",
   "execution_count": null,
   "metadata": {},
   "outputs": [],
   "source": [
    "#create class instances and test"
   ]
  },
  {
   "cell_type": "markdown",
   "metadata": {},
   "source": [
    "### 2.3. Add \"transpose\" method to the same Matrix class."
   ]
  },
  {
   "cell_type": "code",
   "execution_count": null,
   "metadata": {},
   "outputs": [],
   "source": [
    "#implement class"
   ]
  },
  {
   "cell_type": "code",
   "execution_count": null,
   "metadata": {},
   "outputs": [],
   "source": [
    "#create class instances and test"
   ]
  },
  {
   "cell_type": "markdown",
   "metadata": {},
   "source": [
    "### 2.4. Overload operator + in the same Matrix class."
   ]
  },
  {
   "cell_type": "code",
   "execution_count": null,
   "metadata": {},
   "outputs": [],
   "source": [
    "#implement class"
   ]
  },
  {
   "cell_type": "code",
   "execution_count": null,
   "metadata": {},
   "outputs": [],
   "source": [
    "#create class instances and test"
   ]
  },
  {
   "cell_type": "markdown",
   "metadata": {},
   "source": [
    "### 3. Create abstract class \"Number\" with abstractmethods +,-,* operators' magic methods (__add__, __sub__, __mul__). Create 2 subclasses \"Real\" and \"Complex\"."
   ]
  },
  {
   "cell_type": "code",
   "execution_count": null,
   "metadata": {},
   "outputs": [],
   "source": [
    "#implement class"
   ]
  },
  {
   "cell_type": "code",
   "execution_count": null,
   "metadata": {},
   "outputs": [],
   "source": [
    "#create class instances and test"
   ]
  },
  {
   "cell_type": "markdown",
   "metadata": {},
   "source": [
    "### 4. Think of a polymorphism example from your workplace/univsersity, or daily routine. Create a class out of that idea. Make it more complex by adding some interesting functionlity.\n",
    "### Try to be maximum creative (:"
   ]
  },
  {
   "cell_type": "code",
   "execution_count": null,
   "metadata": {},
   "outputs": [],
   "source": [
    "#implement class"
   ]
  },
  {
   "cell_type": "code",
   "execution_count": null,
   "metadata": {},
   "outputs": [],
   "source": [
    "#create class instances and test"
   ]
  },
  {
   "cell_type": "markdown",
   "metadata": {},
   "source": [
    "### 5. Let's model the Educational System. Below I have listed some entities regarding to Educational System.\n",
    "* Universities\n",
    "* Schools\n",
    "* Kindergartens\n",
    "* Colleges\n",
    "* Teachers at Schools\n",
    "* Teachers at Kindergartens\n",
    "* Teachers at Colleges\n",
    "* Lecturers at Universities\n",
    "* Students\n",
    "* Pupils\n",
    "* Children\n",
    "* University Faculties\n",
    "* Bachelor Degree\n",
    "* Masters Degree\n",
    "* PhD Degree\n",
    "* Primary School\n",
    "* Middle School\n",
    "* High School\n",
    "\n",
    "### You have to decide for yourself what classes, methods, parameters, inheritances do you need. The entities listed above are just there to help you. You can add or remove anything from that list.\n",
    "### I expect a complex group of classes, where I can find multiple inheritances and lots of method overriding. Again, try to be creative and efficient!"
   ]
  },
  {
   "cell_type": "code",
   "execution_count": null,
   "metadata": {},
   "outputs": [],
   "source": [
    "#implement class"
   ]
  },
  {
   "cell_type": "code",
   "execution_count": null,
   "metadata": {},
   "outputs": [],
   "source": [
    "#create class instances and test"
   ]
  }
 ],
 "metadata": {
  "kernelspec": {
   "display_name": "Python 3",
   "language": "python",
   "name": "python3"
  },
  "language_info": {
   "codemirror_mode": {
    "name": "ipython",
    "version": 3
   },
   "file_extension": ".py",
   "mimetype": "text/x-python",
   "name": "python",
   "nbconvert_exporter": "python",
   "pygments_lexer": "ipython3",
   "version": "3.6.5"
  }
 },
 "nbformat": 4,
 "nbformat_minor": 2
}

{
 "cells": [
  {
   "cell_type": "markdown",
   "metadata": {},
   "source": [
    "# HW 1"
   ]
  },
  {
   "cell_type": "markdown",
   "metadata": {},
   "source": [
    "* Delete test_repo that you created during last class.\n",
    "* Create new public repository in your Github page and name it \"new_repo\" (don't forget to initialize it with Readme).\n",
    "* Clone that repo to have a local copy.\n",
    "* Go to the cloned repo.\n",
    "* Create new file named \"hello.txt\" inside the repo in the terminal with nano editor and write \"Hello World!\" in it.\n",
    "* Add, then commit \"hello.txt\" file. Write the following commit message \"Added greeting file.\"\n",
    "* Push the commit to Github.\n",
    "* Crete new file named \"howareyou.txt\" with the following text \"How are you doing?\" using echo command.\n",
    "* Create new empty file named \"weather.txt\" with touch command.\n",
    "* Edit \"weather.txt\" file and write the following text in it \"Finally it is snowing.\"\n",
    "* Add both files \"howareyou.txt\" and \"weather.txt\" and commit them together. Commit message should be like \"Added files for how doing and weather\"\n",
    "* Push the commit.\n",
    "* Go out of repositroy directory in terminal and create new directory somewhere outside. Name it \"new_dir\".\n",
    "* Try creating a file inside new_dir without changing directory to it. File should be named \"new_file.py\" and should contain the following \"This is python file.\"\n",
    "* Now, go to the Github repository page in the browser and upload the new_file you just created. As commit message use the following \"Commited file via upload\".\n",
    "* Now go to the terminal again and create a file named \"test.py\" and write something in it. \n",
    "* Add, then commit this file using the following commit message \"Added test file\".\n",
    "* Try to push this file to remote.\n",
    "* Oops! You forgot to pull the changes beforehead. So, pull the changes, and only then push the previous commit."
   ]
  },
  {
   "cell_type": "markdown",
   "metadata": {},
   "source": [
    "# HW 2"
   ]
  },
  {
   "cell_type": "markdown",
   "metadata": {},
   "source": [
    "* Create new branch called \"development\".\n",
    "* Go to the development branch.\n",
    "* Create new file called \"dev_file.py\"\n",
    "* Add, commit then push this file to development branch.\n",
    "* Change to master branch and try to merge the development branch into master."
   ]
  }
 ],
 "metadata": {
  "kernelspec": {
   "display_name": "Python 3",
   "language": "python",
   "name": "python3"
  },
  "language_info": {
   "codemirror_mode": {
    "name": "ipython",
    "version": 3
   },
   "file_extension": ".py",
   "mimetype": "text/x-python",
   "name": "python",
   "nbconvert_exporter": "python",
   "pygments_lexer": "ipython3",
   "version": "3.6.8"
  }
 },
 "nbformat": 4,
 "nbformat_minor": 2
}

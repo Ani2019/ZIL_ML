{
 "cells": [
  {
   "cell_type": "markdown",
   "metadata": {},
   "source": [
    "# What is Machine Learning"
   ]
  },
  {
   "cell_type": "markdown",
   "metadata": {},
   "source": [
    "Two definitions of Machine Learning are offered. \n",
    "* Arthur Samuel described it as: “the field of study that gives computers the ability to learn without being explicitly programmed.” This is an older, informal definition.\n",
    "* Tom Mitchell provides a more modern definition: “A computer program is said to learn from experience E with respect to some class of tasks T and performance measure P, if its performance at tasks in T, as measured by P, improves with experience E.”"
   ]
  },
  {
   "cell_type": "markdown",
   "metadata": {},
   "source": [
    "# Types of Machine Learning"
   ]
  },
  {
   "cell_type": "markdown",
   "metadata": {},
   "source": [
    "Generally, there are 3 types.\n",
    "\n",
    "1. Supervised learning\n",
    "\n",
    "2. Unsupervised learning\n",
    "\n",
    "3. Reinforcement learning"
   ]
  },
  {
   "cell_type": "markdown",
   "metadata": {},
   "source": [
    "Applications in which the training data comprises examples of the input vectors\n",
    "along with their corresponding target vectors are known as **supervised learning** problems. Cases such as the digit recognition example, in which the aim is to assign each\n",
    "input vector to one of a finite number of discrete categories, are called **classification**\n",
    "problems. If the desired output consists of one or more continuous variables, then\n",
    "the task is called **regression**. An example of a regression problem would be the prediction of the yield in a chemical manufacturing process in which the inputs consist\n",
    "of the concentrations of reactants, the temperature, and the pressure."
   ]
  },
  {
   "cell_type": "markdown",
   "metadata": {},
   "source": [
    "In other pattern recognition problems, the training data consists of a set of input\n",
    "vectors x without any corresponding target values. The goal in such **unsupervised learning** problems may be to discover groups of similar examples within the data,\n",
    "where it is called **clustering**, or to determine the distribution of data within the input\n",
    "space, known as **density estimation**, or to project the data from a high-dimensional space down to two or three dimensions for the purpose of visualization which is called **dimensionality reduction**."
   ]
  },
  {
   "cell_type": "markdown",
   "metadata": {},
   "source": [
    "Finally, the technique of **reinforcement learning** (Sutton and Barto, 1998) is concerned with the problem of finding suitable actions to take in a given situation in\n",
    "order to maximize a reward. Here the learning algorithm is not given examples of\n",
    "optimal outputs, in contrast to supervised learning, but must instead discover them\n",
    "by a process of trial and error. Typically there is a sequence of states and actions in\n",
    "which the learning algorithm is interacting with its environment. In many cases, the\n",
    "current action not only affects the immediate reward but also has an impact on the reward at all subsequent time steps.\n",
    "\n",
    "Cool Example [HERE](https://www.youtube.com/watch?v=hx_bgoTF7bs)"
   ]
  },
  {
   "cell_type": "markdown",
   "metadata": {},
   "source": [
    "# Training and Testing\n",
    "\n",
    "Dividing datasets into train and test."
   ]
  },
  {
   "cell_type": "markdown",
   "metadata": {},
   "source": [
    "**The result of running the machine learning algorithm can be expressed as a\n",
    "function y(x) which takes a new digit image x as input and that generates an output\n",
    "vector y, encoded in the same way as the target vectors.**"
   ]
  },
  {
   "cell_type": "markdown",
   "metadata": {},
   "source": [
    "# Generalization\n",
    "\n",
    "The\n",
    "ability to categorize correctly new examples that differ from those used for training is known as generalization."
   ]
  },
  {
   "cell_type": "markdown",
   "metadata": {},
   "source": [
    "# Data Preprocessing"
   ]
  },
  {
   "cell_type": "markdown",
   "metadata": {},
   "source": [
    "For most practical applications, the original input variables are typically preprocessed to transform them into some new space of variables where, it is hoped, the\n",
    "pattern recognition problem will be easier to solve.\n",
    "This pre-processing stage is sometimes also called feature extraction or feature engineering."
   ]
  },
  {
   "cell_type": "markdown",
   "metadata": {},
   "source": [
    "# Our pipeline"
   ]
  },
  {
   "cell_type": "markdown",
   "metadata": {},
   "source": [
    "## Supervised Learning \n",
    "* Linear Regression\n",
    "* Polynomial Regression\n",
    "* Logistic Regression\n",
    "* SVM, Hyperparameters Optimization\n",
    "* Decision Trees\n",
    "* Random Forest \n",
    "* Boosting, Bagging, Stacking \n",
    "* K-NN\n",
    "\n",
    "## Data Wrangling\n",
    "* Correlation Coefficients\n",
    "* Statistical Tests \n",
    "\n",
    "## Unsupervised Learning \n",
    "* K-Means\n",
    "* GMM\n",
    "* PCA\n",
    "* LDA, ICA\n",
    "\n",
    "## Deep Learning\n",
    "* NN basics \n",
    "* Back Propagation  \n",
    "* Improving NN learning\n",
    "* Main Optimizers\n",
    "* Intro to tensorflow\n",
    "* Intro to Keras\n",
    "\n",
    "#### Image Processing\n",
    "* Intro to CNN’s \n",
    "* CNN Models, Transfer Learning\n",
    "* Data Augmentation, Generators\n",
    "* Object detection, Segmentation \n",
    "* GAN’s, VAE\n",
    "\n",
    "#### NLP\n",
    "* Text Preprocessing, Language Models\n",
    "* Word2Vec\n",
    "* Transformer Models\n",
    "* RNN"
   ]
  }
 ],
 "metadata": {
  "kernelspec": {
   "display_name": "random",
   "language": "python",
   "name": "random"
  },
  "language_info": {
   "codemirror_mode": {
    "name": "ipython",
    "version": 3
   },
   "file_extension": ".py",
   "mimetype": "text/x-python",
   "name": "python",
   "nbconvert_exporter": "python",
   "pygments_lexer": "ipython3",
   "version": "3.6.8"
  }
 },
 "nbformat": 4,
 "nbformat_minor": 2
}

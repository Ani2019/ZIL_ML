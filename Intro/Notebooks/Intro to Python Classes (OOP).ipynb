{
 "cells": [
  {
   "cell_type": "markdown",
   "metadata": {},
   "source": [
    "# OOP = Object Oriented Programming"
   ]
  },
  {
   "cell_type": "markdown",
   "metadata": {},
   "source": [
    "## 4 main ideas"
   ]
  },
  {
   "cell_type": "markdown",
   "metadata": {},
   "source": [
    "# Encapsulation"
   ]
  },
  {
   "cell_type": "markdown",
   "metadata": {},
   "source": [
    "### The concept of Encapsulation is to keep together the implementation (code) and the data it manipulates (variables). "
   ]
  },
  {
   "cell_type": "markdown",
   "metadata": {},
   "source": [
    "### Encapsulation means that the internal representation of an object is generally hidden from view outside of the object’s definition.\n",
    "\n",
    "### A class is an example of encapsulation as it encapsulates all the data that is member functions,variables etc."
   ]
  },
  {
   "cell_type": "markdown",
   "metadata": {},
   "source": [
    "### Encapsulation is achieved when each object keeps its state private, inside a class. Other objects don’t have direct access to this state. Instead, they can only call a list of public functions — called methods. \n",
    "### So, the object manages its own state via methods — and no other class can touch it unless explicitly allowed. If you want to communicate with the object, you should use the methods provided. But (by default), you can’t change the state."
   ]
  },
  {
   "cell_type": "markdown",
   "metadata": {},
   "source": [
    "![encaps_cat](../Images/encapsulation_cat.png)"
   ]
  },
  {
   "cell_type": "markdown",
   "metadata": {},
   "source": [
    "# Abstraction"
   ]
  },
  {
   "cell_type": "markdown",
   "metadata": {},
   "source": [
    "### Abstraction is a mechanism which represent the essential features without including implementation details.\n",
    "\n",
    "### Applying abstraction means that each object should only expose a high-level mechanism for using it. This mechanism should hide internal implementation details. It should only reveal operations relevant for the other objects.\n"
   ]
  },
  {
   "cell_type": "markdown",
   "metadata": {},
   "source": [
    "![abst_ph](../Images/abstarction_phone.png)"
   ]
  },
  {
   "cell_type": "markdown",
   "metadata": {},
   "source": [
    "***\n",
    "#### Encapsulation: — Information hiding.\n",
    "\n",
    "#### Abstraction: — Implementation hiding.\n",
    "***"
   ]
  },
  {
   "cell_type": "markdown",
   "metadata": {},
   "source": [
    "# Inheritance"
   ]
  },
  {
   "cell_type": "markdown",
   "metadata": {},
   "source": [
    "### Inheritance is a mechanism, by which one class acquires, all the properties and behaviors of another class. The class whose members are inherited is called the Super class (or base class), and the class that inherits those members is called the Sub class (or derived class)."
   ]
  },
  {
   "cell_type": "markdown",
   "metadata": {},
   "source": [
    "### Using inheritance you can write hierarchical code where you move from generic code (in Parent class) to specific code (in child class)."
   ]
  },
  {
   "cell_type": "markdown",
   "metadata": {},
   "source": [
    "![inhetit_teacher](../Images/inheritance_teacher.png)"
   ]
  },
  {
   "cell_type": "markdown",
   "metadata": {},
   "source": [
    "# Polimorphism"
   ]
  },
  {
   "cell_type": "markdown",
   "metadata": {},
   "source": [
    "### Say we have a parent class and a few child classes which inherit from it. Sometimes we want to use a collection — for example a list — which contains a mix of all these classes. Or we have a method implemented for the parent class — but we’d like to use it for the children, too.\n",
    "\n",
    "### Simply put, polymorphism gives a way to use a class exactly like its parent so there’s no confusion with mixing types. But each child class keeps its own methods as they are."
   ]
  },
  {
   "cell_type": "markdown",
   "metadata": {},
   "source": [
    "### This typically happens by defining a (parent) interface to be reused. It outlines a bunch of common methods. Then, each child class implements its own version of these methods.\n",
    "\n",
    "### Any time a collection (such as a list) or a method expects an instance of the parent (where common methods are outlined), the language takes care of evaluating the right implementation of the common method — regardless of which child is passed."
   ]
  },
  {
   "cell_type": "markdown",
   "metadata": {},
   "source": [
    "![polym_geom](../Images/polymorphism_geometry.png)"
   ]
  },
  {
   "cell_type": "markdown",
   "metadata": {},
   "source": [
    "### Having these three figures inheriting the parent Figure Interface lets you create a list of mixed triangles, circles, and rectangles. And treat them like the same type of object.\n",
    "\n",
    "### Then, if this list attempts to calculate the surface for an element, the correct method is found and executed. If the element is a triangle, triangle’s CalculateSurface() is called. If it’s a circle — then cirlce’s CalculateSurface() is called. And so on.\n",
    "\n",
    "### If you have a function which operates with a figure by using its parameter, you don’t have to define it three times — once for a triangle, a circle, and a rectangle.\n",
    "\n",
    "### You can define it once and accept a Figure as an argument. Whether you pass a triangle, circle or a rectangle — as long as they implement CalculateParamter(), their type doesn’t matter."
   ]
  },
  {
   "cell_type": "markdown",
   "metadata": {},
   "source": [
    "### In an object oriented language you will find support for Polymorphism through-\n",
    "\n",
    "   * Method overloading\n",
    "   * Method overriding\n",
    "   * Operator overloading\n"
   ]
  },
  {
   "cell_type": "markdown",
   "metadata": {},
   "source": [
    "***\n",
    "***\n",
    "***"
   ]
  },
  {
   "cell_type": "markdown",
   "metadata": {},
   "source": [
    "## Pyhton Syntax for Class\n",
    "\n",
    "What is a class\n",
    "\n",
    "In object oriented programming class defines a new type. Class encapsulates data (variables) and functionality (methods) together. Once a class is defined it can be instantiated to create objects of that class. Each class instance (object) gets its own copy of attributes for maintaining its state and methods for modifying its state.\n",
    "\n",
    "You can create multiple class instances, they all will be of the same type (as defined by the class) but they will have their own state i.e. different values for attributes."
   ]
  },
  {
   "cell_type": "code",
   "execution_count": 1,
   "metadata": {},
   "outputs": [
    {
     "name": "stdout",
     "output_type": "stream",
     "text": [
      "Class Person displaying person information\n",
      "init called\n",
      "Vahan\n",
      "40\n",
      "init called\n",
      "Anna\n",
      "32\n",
      "Count-  2\n"
     ]
    }
   ],
   "source": [
    "class Person:\n",
    "    '''Class Person displaying person information'''\n",
    "    #class variable\n",
    "    person_total = 0\n",
    "    def __init__(self, name, age):\n",
    "        print('init called')\n",
    "        self.name = name\n",
    "        self.age = age\n",
    "        Person.person_total +=1\n",
    "\n",
    "    def display(self):\n",
    "        print(self.name)\n",
    "        print(self.age)\n",
    "\n",
    "# printing doc string\n",
    "print(Person.__doc__)\n",
    "# creating class instances\n",
    "person1 = Person('Vahan', 40)\n",
    "person1.display()\n",
    "person2 = Person('Anna', 32)\n",
    "person2.display()\n",
    "print('Count- ', Person.person_total)"
   ]
  },
  {
   "cell_type": "markdown",
   "metadata": {},
   "source": [
    "**Special class attributes in Python**\n",
    "\n",
    "In the above example print(Person.**__**doc**__**) prints the doc string. If you are wondering from where does this attribute **__**doc**__** come from then please note that it is a built in class attribute. Every class in Python has some built-in class attributes that provides information about the class.\n",
    "\n",
    "    __name__ : Gives the class name.\n",
    "    __module__ : Gives the module name in which the class was defined.\n",
    "    __dict__ : A dictionary containing the class’s namespace.\n",
    "    __bases__ : A tuple containing the base classes, in the order of their occurrence in the base class list.\n",
    "    __doc__ : Gives the class’s documentation string, or None if undefined."
   ]
  },
  {
   "cell_type": "code",
   "execution_count": 2,
   "metadata": {},
   "outputs": [
    {
     "name": "stdout",
     "output_type": "stream",
     "text": [
      "__bases__ attribute- (<class 'object'>,)\n",
      "__dict__attribute- {'__module__': '__main__', '__doc__': 'Class Person displaying person information', 'person_total': 0, '__init__': <function Person.__init__ at 0x000001A84902BA60>, 'display': <function Person.display at 0x000001A84902B9D8>, '__dict__': <attribute '__dict__' of 'Person' objects>, '__weakref__': <attribute '__weakref__' of 'Person' objects>}\n",
      "__doc__attribute- Class Person displaying person information\n",
      "__name__attribute- Person\n",
      "__module__attribute- __main__\n"
     ]
    }
   ],
   "source": [
    "class Person:\n",
    "    '''Class Person displaying person information'''\n",
    "    #class variable\n",
    "    person_total = 0\n",
    "    def __init__(self, name, age):\n",
    "        print('init called')\n",
    "        self.name = name\n",
    "        self.age = age\n",
    "        Person.person_total +=1\n",
    "\n",
    "    def display(self):\n",
    "        print(self.name)\n",
    "        print(self.age)\n",
    "\n",
    "# printing class attributes\n",
    "print('__bases__ attribute-', Person.__bases__)\n",
    "print('__dict__attribute-',Person.__dict__)\n",
    "print('__doc__attribute-',Person.__doc__)\n",
    "print('__name__attribute-',Person.__name__)\n",
    "print('__module__attribute-',Person.__module__)"
   ]
  },
  {
   "cell_type": "markdown",
   "metadata": {},
   "source": [
    "### Constructor\n",
    "\n",
    "Constructor is a special method provided to initialize objects (assign values to its data members) when they are created. In Python **__**init__()** special method is the constructor and this method is always called when an object is created.\n",
    "\n",
    "First argument in **__**init**__()** method is always self. Constructor may or may not have other input parameters i.e. other input parameters are optional. "
   ]
  },
  {
   "cell_type": "markdown",
   "metadata": {},
   "source": [
    "In Python when you create a new instance of a class. For example obj = MyClass() first the special method **__**new**__()** is called to create the object, and then the special method **__**init__()** is called to initialize it.\n",
    "\n",
    "The constructor is called implicitly on instantiating a class.\n",
    "\n",
    "**Types of constructors in Python**\n",
    "\n",
    "*    Non-parameterized constructor- Constructor without any parameters except self which is a reference to the current object.\n",
    "*    Parameterized constructor- When you want to assign specific values to the data members while initializing an object you can pass them as arguments to __init__() method. In that case first argument is self and other arguments are used for initialization."
   ]
  },
  {
   "cell_type": "markdown",
   "metadata": {},
   "source": [
    "**Non-parameterized Python constructor example**"
   ]
  },
  {
   "cell_type": "code",
   "execution_count": 3,
   "metadata": {},
   "outputs": [
    {
     "name": "stdout",
     "output_type": "stream",
     "text": [
      "David\n",
      "32\n"
     ]
    }
   ],
   "source": [
    "class Person:\n",
    "    def __init__(self):\n",
    "        self.name = \"David\"\n",
    "        self.age = 32\n",
    "\n",
    "    def display_data(self):\n",
    "        print(self.name)\n",
    "        print(self.age)\n",
    "\n",
    "person = Person()\n",
    "person.display_data()"
   ]
  },
  {
   "cell_type": "markdown",
   "metadata": {},
   "source": [
    "**Parameterized Python constructor example**"
   ]
  },
  {
   "cell_type": "code",
   "execution_count": 4,
   "metadata": {},
   "outputs": [
    {
     "name": "stdout",
     "output_type": "stream",
     "text": [
      "David\n",
      "32\n"
     ]
    }
   ],
   "source": [
    "class Person:\n",
    "    def __init__(self, name, age):\n",
    "        self.name = name\n",
    "        self.age = age\n",
    "\n",
    "    def display_data(self):\n",
    "        print(self.name)\n",
    "        print(self.age)\n",
    "\n",
    "person = Person('David', 32)\n",
    "person.display_data()"
   ]
  },
  {
   "cell_type": "markdown",
   "metadata": {},
   "source": [
    "**Constructor in Python with default values**"
   ]
  },
  {
   "cell_type": "code",
   "execution_count": 5,
   "metadata": {},
   "outputs": [
    {
     "name": "stdout",
     "output_type": "stream",
     "text": [
      "Unknown\n",
      "0\n",
      "Mariam\n",
      "14\n"
     ]
    }
   ],
   "source": [
    "class Person:\n",
    "    def __init__(self, name='Unknown', age=0):\n",
    "        self.name = name\n",
    "        self.age = age\n",
    "\n",
    "    def display_data(self):\n",
    "        print(self.name)\n",
    "        print(self.age)\n",
    "\n",
    "person = Person()\n",
    "person.display_data()\n",
    "\n",
    "person2 = Person(\"Mariam\", 14)\n",
    "person2.display_data()"
   ]
  },
  {
   "cell_type": "markdown",
   "metadata": {},
   "source": [
    "### self variable"
   ]
  },
  {
   "cell_type": "markdown",
   "metadata": {},
   "source": [
    "When you create a new instance of the class, for example ```obj = MyClass()``` a new object is created with its own memory and reference to that object is assigned to the variable obj.\n",
    "\n",
    "self in Python is also a **reference to the current object**.\n",
    "\n",
    "By using self you can access the attributes and methods of a class in python."
   ]
  },
  {
   "cell_type": "markdown",
   "metadata": {},
   "source": [
    "**self is not a keyword in Python**\n",
    "\n",
    "All the methods in a class including **__**init__()** must use self as the first parameter but naming this parameter “self” is more of a convention. In Python, self is not a reserved keyword, you can actually use any name as the first parameter of a method though that is not advisable."
   ]
  },
  {
   "cell_type": "markdown",
   "metadata": {},
   "source": [
    "**Why self is not passed in method call**"
   ]
  },
  {
   "cell_type": "code",
   "execution_count": 6,
   "metadata": {},
   "outputs": [
    {
     "name": "stdout",
     "output_type": "stream",
     "text": [
      "<class 'function'>\n",
      "<class 'method'>\n"
     ]
    }
   ],
   "source": [
    "class Person:\n",
    "    def __init__(self, name, age):\n",
    "        self.name = name\n",
    "        self.age = age\n",
    "\n",
    "    def display_data(self):\n",
    "        print(self.name)\n",
    "        print(self.age)\n",
    "\n",
    "person1 = Person('John', 40)\n",
    "person2 = Person('Jessica', 32)\n",
    "\n",
    "# method call using class name\n",
    "print(type(Person.display_data))\n",
    "# method call using object\n",
    "print(type(person1.display_data))"
   ]
  },
  {
   "cell_type": "markdown",
   "metadata": {},
   "source": [
    "When you write any **def** statement with in a class it is a **function definition** which can be accessed using class name.\n",
    "\n",
    "A **method** is a function that belongs to an object.\n",
    "\n",
    "Coming back to the question how method is called with out an argument. In Python when you call a method using an object, that instance object is passed as the first argument of the function. So a method call **person1.display_data()** internally becomes **Person.display_data(person1)** and that person1 reference is assigned to self."
   ]
  },
  {
   "cell_type": "markdown",
   "metadata": {},
   "source": [
    "### Destructor"
   ]
  },
  {
   "cell_type": "markdown",
   "metadata": {},
   "source": [
    "Just like a constructor is used to create and initialize an object, a **destructor is used to destroy the object and perform the final clean up**.\n",
    "\n",
    "Although in python we do have garbage collector to clean up the memory, but its not just memory which has to be freed when an object is dereferenced or destroyed, it can be a lot of other resources as well, like closing open files, closing database connections, cleaning up the buffer or cache etc. Hence when we say the final clean up, it doesn't only mean cleaning up the memory resources."
   ]
  },
  {
   "cell_type": "code",
   "execution_count": 7,
   "metadata": {},
   "outputs": [
    {
     "name": "stdout",
     "output_type": "stream",
     "text": [
      "Destructor deleted pen object\n",
      "Destructor deleted pencil object\n"
     ]
    }
   ],
   "source": [
    "class Item:\n",
    "    def __init__(self, name):\n",
    "        self.name = name\n",
    "\n",
    "    def __del__(self):\n",
    "        print(\"Destructor deleted\", self.name, \"object\")\n",
    "        \n",
    "obj1 = Item(\"pen\")\n",
    "obj1.__del__()\n",
    "obj2 = Item(\"pencil\")\n",
    "del obj2"
   ]
  },
  {
   "cell_type": "markdown",
   "metadata": {},
   "source": [
    "## Encapsulation Examples"
   ]
  },
  {
   "cell_type": "markdown",
   "metadata": {},
   "source": [
    "#### In Python there are no explicit access modifiers and everything written with in the class (methods and variables) are public by default. "
   ]
  },
  {
   "cell_type": "code",
   "execution_count": 8,
   "metadata": {},
   "outputs": [
    {
     "name": "stdout",
     "output_type": "stream",
     "text": [
      "Khachik\n",
      "40\n",
      "Khachik\n",
      "40\n"
     ]
    }
   ],
   "source": [
    "class Person:\n",
    "    def __init__(self, name, age=0):\n",
    "        self.name = name\n",
    "        self.age = age\n",
    "\n",
    "    def display(self):\n",
    "        print(self.name)\n",
    "        print(self.age)\n",
    "\n",
    "person = Person('Khachik', 40)\n",
    "#accessing using class method\n",
    "person.display()\n",
    "#accessing directly from outside\n",
    "print(person.name)\n",
    "print(person.age)"
   ]
  },
  {
   "cell_type": "markdown",
   "metadata": {},
   "source": [
    "#### In Python though there are no explicit access modifiers but using underscores (_) you can make a variable private."
   ]
  },
  {
   "cell_type": "markdown",
   "metadata": {},
   "source": [
    "**Using single underscore**"
   ]
  },
  {
   "cell_type": "markdown",
   "metadata": {},
   "source": [
    "A leading underscore doesn’t actually make any variable or method private or protected. It’s just that if you see a variable or method with a leading underscore in Python code you should follow the convention that it should be used internally with in a class."
   ]
  },
  {
   "cell_type": "code",
   "execution_count": 9,
   "metadata": {},
   "outputs": [
    {
     "name": "stdout",
     "output_type": "stream",
     "text": [
      "Khachik\n",
      "40\n",
      "Khachik\n",
      "40\n"
     ]
    }
   ],
   "source": [
    "class Person:\n",
    "    def __init__(self, name, age=0):\n",
    "        self.name = name\n",
    "        self._age = age\n",
    "\n",
    "    def display(self):\n",
    "        print(self.name)\n",
    "        print(self._age)\n",
    "\n",
    "person = Person('Khachik', 40)\n",
    "#accessing using class method\n",
    "person.display()\n",
    "#accessing directly from outside\n",
    "print(person.name)\n",
    "print(person._age)"
   ]
  },
  {
   "cell_type": "markdown",
   "metadata": {},
   "source": [
    "**Using double underscore (making it private)**"
   ]
  },
  {
   "cell_type": "markdown",
   "metadata": {},
   "source": [
    "If you really want to make a class member (member or variable) **private** in Python you can do it **by prefixing a variable or method with double underscores**. Here note that Python provides a limited support for private modifier using a mechanism called name mangling and it is still possible to access such class member from outside the class.\n",
    "\n",
    "In Python any identifier of the form **__var** (at least two leading underscores, at most one trailing underscore) is rewritten by the Python interpreter in the form **_classname__var**, where classname is the current class name. This mechanism of name changing is known as **name mangling** in Python."
   ]
  },
  {
   "cell_type": "code",
   "execution_count": 10,
   "metadata": {},
   "outputs": [
    {
     "name": "stdout",
     "output_type": "stream",
     "text": [
      "Khachik\n",
      "40\n",
      "Trying to access variables from outside the class \n",
      "Khachik\n"
     ]
    },
    {
     "ename": "AttributeError",
     "evalue": "'Person' object has no attribute '__age'",
     "output_type": "error",
     "traceback": [
      "\u001b[1;31m---------------------------------------------------------------------------\u001b[0m",
      "\u001b[1;31mAttributeError\u001b[0m                            Traceback (most recent call last)",
      "\u001b[1;32m<ipython-input-10-bef2a01a0587>\u001b[0m in \u001b[0;36m<module>\u001b[1;34m\u001b[0m\n\u001b[0;32m     14\u001b[0m \u001b[0mprint\u001b[0m\u001b[1;33m(\u001b[0m\u001b[1;34m'Trying to access variables from outside the class '\u001b[0m\u001b[1;33m)\u001b[0m\u001b[1;33m\u001b[0m\u001b[0m\n\u001b[0;32m     15\u001b[0m \u001b[0mprint\u001b[0m\u001b[1;33m(\u001b[0m\u001b[0mperson\u001b[0m\u001b[1;33m.\u001b[0m\u001b[0mname\u001b[0m\u001b[1;33m)\u001b[0m\u001b[1;33m\u001b[0m\u001b[0m\n\u001b[1;32m---> 16\u001b[1;33m \u001b[0mprint\u001b[0m\u001b[1;33m(\u001b[0m\u001b[0mperson\u001b[0m\u001b[1;33m.\u001b[0m\u001b[0m__age\u001b[0m\u001b[1;33m)\u001b[0m\u001b[1;33m\u001b[0m\u001b[0m\n\u001b[0m",
      "\u001b[1;31mAttributeError\u001b[0m: 'Person' object has no attribute '__age'"
     ]
    }
   ],
   "source": [
    "class Person:\n",
    "    def __init__(self, name, age=0):\n",
    "        self.name = name\n",
    "        self.__age = age\n",
    "\n",
    "    def display(self):\n",
    "        print(self.name)\n",
    "        print(self.__age)\n",
    "\n",
    "person = Person('Khachik', 40)\n",
    "#accessing using class method\n",
    "person.display()\n",
    "#accessing directly from outside\n",
    "print('Trying to access variables from outside the class ')\n",
    "print(person.name)\n",
    "print(person.__age)"
   ]
  },
  {
   "cell_type": "markdown",
   "metadata": {},
   "source": [
    "**access private variable with name mangling**"
   ]
  },
  {
   "cell_type": "code",
   "execution_count": 11,
   "metadata": {},
   "outputs": [
    {
     "name": "stdout",
     "output_type": "stream",
     "text": [
      "Khachik\n",
      "40\n",
      "Trying to access variables from outside the class \n",
      "Khachik\n",
      "40\n"
     ]
    }
   ],
   "source": [
    "class Person:\n",
    "    def __init__(self, name, age=0):\n",
    "        self.name = name\n",
    "        self.__age = age\n",
    "\n",
    "    def display(self):\n",
    "        print(self.name)\n",
    "        print(self.__age)\n",
    "\n",
    "person = Person('Khachik', 40)\n",
    "#accessing using class method\n",
    "person.display()\n",
    "#accessing directly from outside\n",
    "print('Trying to access variables from outside the class ')\n",
    "print(person.name)\n",
    "print(person._Person__age)"
   ]
  },
  {
   "cell_type": "markdown",
   "metadata": {},
   "source": [
    "**Using getter and setter methods to access private variables**"
   ]
  },
  {
   "cell_type": "code",
   "execution_count": 12,
   "metadata": {},
   "outputs": [
    {
     "name": "stdout",
     "output_type": "stream",
     "text": [
      "Khachik\n",
      "40\n",
      "45\n"
     ]
    }
   ],
   "source": [
    "class Person:\n",
    "    def __init__(self, name, age=0):\n",
    "        self.name = name\n",
    "        self.__age = age\n",
    "\n",
    "    def display(self):\n",
    "        print(self.name)\n",
    "        print(self.__age)\n",
    "\n",
    "    def getAge(self):\n",
    "        print(self.__age)\n",
    "\n",
    "    def setAge(self, age):\n",
    "        self.__age = age\n",
    "\n",
    "person = Person('Khachik', 40)\n",
    "#accessing using class method\n",
    "person.display()\n",
    "#changing age using setter\n",
    "person.setAge(45)\n",
    "person.getAge()"
   ]
  },
  {
   "cell_type": "markdown",
   "metadata": {},
   "source": [
    "## Inheritance Examples"
   ]
  },
  {
   "cell_type": "code",
   "execution_count": 13,
   "metadata": {},
   "outputs": [
    {
     "name": "stdout",
     "output_type": "stream",
     "text": [
      "100 dollar CASH IN for 1001\n",
      "500 dollar CASH OUT for 1001\n",
      "Scheduling appointment in bank for  1001\n"
     ]
    }
   ],
   "source": [
    "class Account:\n",
    "    def __init__(self, name, acct_num):\n",
    "        self.name = name\n",
    "        self.acct_num = acct_num\n",
    "\n",
    "    def cashIn(self, amount):\n",
    "        print('{0} dollar CASH IN for {1}'.format(amount, self.acct_num))\n",
    "\n",
    "    def cashOut(self, amount):\n",
    "        print('{0} dollar CASH OUT for {1}'.format(amount, self.acct_num))\n",
    "\n",
    "class PrivilegedAccount(Account):\n",
    "    def scheduleAppointment(self):\n",
    "        print('Scheduling appointment in bank for ', self.acct_num)\n",
    "\n",
    "#PrivilegedAccount class object\n",
    "pa = PrivilegedAccount('Mary', 1001)\n",
    "pa.cashIn(100)\n",
    "pa.cashOut(500)\n",
    "pa.scheduleAppointment()"
   ]
  },
  {
   "cell_type": "markdown",
   "metadata": {},
   "source": [
    "**Method overriding**"
   ]
  },
  {
   "cell_type": "code",
   "execution_count": 14,
   "metadata": {},
   "outputs": [
    {
     "name": "stdout",
     "output_type": "stream",
     "text": [
      "In child class displayData method\n",
      "In parent class displayData method\n",
      "Marine\n",
      "40\n",
      "ISTC\n"
     ]
    }
   ],
   "source": [
    "class Person:\n",
    "    def __init__(self, name, age):\n",
    "        self.name = name\n",
    "        self.age = age\n",
    "\n",
    "    def displayData(self):\n",
    "        print('In parent class displayData method')\n",
    "        print(self.name)\n",
    "        print(self.age)\n",
    "\n",
    "class Employee(Person):\n",
    "    def __init__(self, name, age, company):\n",
    "        # calling constructor of super class\n",
    "        super().__init__(name, age)\n",
    "        self.company = company\n",
    "\n",
    "    def displayData(self):\n",
    "        print('In child class displayData method')\n",
    "        #calling super class method\n",
    "        super().displayData()\n",
    "        print(self.company)\n",
    "\n",
    "#Employee class object\n",
    "emp = Employee('Marine', 40, 'ISTC')\n",
    "emp.displayData()"
   ]
  },
  {
   "cell_type": "markdown",
   "metadata": {},
   "source": [
    "**Multiple Inheritance**\n",
    "\n",
    "When a sub class is derived from more than one super class it is known as multiple inheritance."
   ]
  },
  {
   "cell_type": "code",
   "execution_count": 15,
   "metadata": {},
   "outputs": [
    {
     "name": "stdout",
     "output_type": "stream",
     "text": [
      "In display method of Parent1\n",
      "In display method of Parent2\n",
      "In display method of Child\n"
     ]
    }
   ],
   "source": [
    "class Parent1:\n",
    "    def parent1_display(self):\n",
    "        print('In display method of Parent1')\n",
    "\n",
    "class Parent2:\n",
    "    def parent2_display(self):\n",
    "        print('In display method of Parent2')\n",
    "\n",
    "#inheriting both Parent1 and Parent2\n",
    "class Child(Parent1, Parent2):\n",
    "    def child_display(self):\n",
    "        print('In display method of Child')\n",
    "\n",
    "obj = Child()\n",
    "obj.parent1_display()\n",
    "obj.parent2_display()\n",
    "obj.child_display()"
   ]
  },
  {
   "cell_type": "markdown",
   "metadata": {},
   "source": [
    "**Conflicts due to multiple inheritance**"
   ]
  },
  {
   "cell_type": "markdown",
   "metadata": {},
   "source": [
    "**Method resolution order (MRO)**\n",
    "\n",
    "* Search in the child class first before moving moving higher up to the parent classes.\n",
    "* Search in the parent classes is done in left to right order, for example if class C is inheriting from classes P1 and P2 - class C(P1, P2) then class P1 is searched first then class P2.\n",
    "* No class is visited more than once.\n",
    "\n",
    "MRO of any class can be viewed using Classname.mro() method which returns a list."
   ]
  },
  {
   "cell_type": "code",
   "execution_count": 16,
   "metadata": {},
   "outputs": [
    {
     "name": "stdout",
     "output_type": "stream",
     "text": [
      "In init method of Parent1\n",
      "In init method of Child\n",
      "[<class '__main__.Child'>, <class '__main__.Parent1'>, <class '__main__.Parent2'>, <class 'object'>]\n"
     ]
    }
   ],
   "source": [
    "class Parent1:\n",
    "    def __init__(self):\n",
    "        print('In init method of Parent1')\n",
    "    def display(self):\n",
    "        print('In display method of Parent1')\n",
    "\n",
    "class Parent2:\n",
    "    def __init__(self):\n",
    "        print('In init method of Parent2')\n",
    "    def display_value(self):\n",
    "        print('In display method of Parent2')\n",
    "\n",
    "#inheriting both Parent1 and Parent2\n",
    "class Child(Parent1, Parent2):\n",
    "    def __init__(self):\n",
    "        super().__init__()\n",
    "        print('In init method of Child')\n",
    "    def display_child(self):\n",
    "        print('In display method of Child')\n",
    "\n",
    "obj = Child()\n",
    "print(Child.mro())"
   ]
  },
  {
   "cell_type": "code",
   "execution_count": 17,
   "metadata": {},
   "outputs": [
    {
     "name": "stdout",
     "output_type": "stream",
     "text": [
      "In display method of Parent1\n",
      "In display method of Child\n"
     ]
    }
   ],
   "source": [
    "class Parent1:\n",
    "    def display(self):\n",
    "        print('In display method of Parent1')\n",
    "\n",
    "class Parent2:\n",
    "    def display(self):\n",
    "        print('In display method of Parent2')\n",
    "\n",
    "#inheriting both Parent1 and Parent2\n",
    "class Child(Parent1, Parent2):\n",
    "    def display_child(self):\n",
    "        print('In display method of Child')\n",
    "\n",
    "obj = Child()\n",
    "obj.display()\n",
    "obj.display_child()"
   ]
  },
  {
   "cell_type": "markdown",
   "metadata": {},
   "source": [
    "## Polymorphism Examples"
   ]
  },
  {
   "cell_type": "markdown",
   "metadata": {},
   "source": [
    "**Polymorphism through Method Overloading**"
   ]
  },
  {
   "cell_type": "markdown",
   "metadata": {},
   "source": [
    "Method overloading in its traditional sense, where you can have more than one method having the same name with in the class where the methods differ in types or number of arguments passed, **is not supported in Python**.\n",
    "\n",
    "Trying to have methods with same name won’t result in compile time error in Python but **only the last defined method is recognized** in such scenario, calling any other overloaded function results in an error."
   ]
  },
  {
   "cell_type": "code",
   "execution_count": 18,
   "metadata": {},
   "outputs": [
    {
     "name": "stdout",
     "output_type": "stream",
     "text": [
      "24\n"
     ]
    }
   ],
   "source": [
    "# checking that it is not supported\n",
    "class OverloadDemo:\n",
    "    # first sum method, two parameters\n",
    "    def sum(self, a, b):\n",
    "        s = a + b\n",
    "        print(s)\n",
    "    # overloaded sum method, three parameters\n",
    "    def sum(self, a, b, c):\n",
    "        s = a + b + c\n",
    "        print(s)\n",
    "\n",
    "od =  OverloadDemo()\n",
    "od.sum(7, 8, 9)"
   ]
  },
  {
   "cell_type": "code",
   "execution_count": 19,
   "metadata": {},
   "outputs": [
    {
     "ename": "TypeError",
     "evalue": "sum() missing 1 required positional argument: 'c'",
     "output_type": "error",
     "traceback": [
      "\u001b[1;31m---------------------------------------------------------------------------\u001b[0m",
      "\u001b[1;31mTypeError\u001b[0m                                 Traceback (most recent call last)",
      "\u001b[1;32m<ipython-input-19-930ab8d3b077>\u001b[0m in \u001b[0;36m<module>\u001b[1;34m\u001b[0m\n\u001b[0;32m     11\u001b[0m \u001b[1;33m\u001b[0m\u001b[0m\n\u001b[0;32m     12\u001b[0m \u001b[0mod\u001b[0m \u001b[1;33m=\u001b[0m  \u001b[0mOverloadDemo\u001b[0m\u001b[1;33m(\u001b[0m\u001b[1;33m)\u001b[0m\u001b[1;33m\u001b[0m\u001b[0m\n\u001b[1;32m---> 13\u001b[1;33m \u001b[0mod\u001b[0m\u001b[1;33m.\u001b[0m\u001b[0msum\u001b[0m\u001b[1;33m(\u001b[0m\u001b[1;36m7\u001b[0m\u001b[1;33m,\u001b[0m \u001b[1;36m8\u001b[0m\u001b[1;33m)\u001b[0m\u001b[1;33m\u001b[0m\u001b[0m\n\u001b[0m",
      "\u001b[1;31mTypeError\u001b[0m: sum() missing 1 required positional argument: 'c'"
     ]
    }
   ],
   "source": [
    "# checking that it is not supported\n",
    "class OverloadDemo:\n",
    "    # first sum method, two parameters\n",
    "    def sum(self, a, b):\n",
    "        s = a + b\n",
    "        print(s)\n",
    "    # overloaded sum method, three parameters\n",
    "    def sum(self, a, b, c):\n",
    "        s = a + b + c\n",
    "        print(s)\n",
    "\n",
    "od =  OverloadDemo()\n",
    "od.sum(7, 8)"
   ]
  },
  {
   "cell_type": "markdown",
   "metadata": {},
   "source": [
    "**Method overloading with argument check**"
   ]
  },
  {
   "cell_type": "code",
   "execution_count": 20,
   "metadata": {},
   "outputs": [
    {
     "name": "stdout",
     "output_type": "stream",
     "text": [
      "Sum =  15\n",
      "Sum =  24\n"
     ]
    }
   ],
   "source": [
    "class OverloadDemo:\n",
    "    # sum method with default as None for parameters\n",
    "    def sum(self, a=None, b=None, c=None):\n",
    "        # When three params are passed\n",
    "        if a!=None and b!=None and c!=None:\n",
    "            s = a + b + c\n",
    "            print('Sum = ', s)\n",
    "        # When two params are passed\n",
    "        elif a!=None and b!=None:\n",
    "            s = a + b\n",
    "            print('Sum = ', s)\n",
    "od =  OverloadDemo()\n",
    "od.sum(7, 8)\n",
    "od.sum(7, 8, 9)"
   ]
  },
  {
   "cell_type": "code",
   "execution_count": 21,
   "metadata": {},
   "outputs": [
    {
     "name": "stdout",
     "output_type": "stream",
     "text": [
      "sum is- 15\n",
      "sum is- 24\n"
     ]
    }
   ],
   "source": [
    "class OverloadDemo:\n",
    "    # sum method with one default parameter\n",
    "    def sum(self, a, b, c=0):\n",
    "            s = a + b + c\n",
    "            return s\n",
    "\n",
    "od =  OverloadDemo()\n",
    "#calling method with 2 args\n",
    "sum = od.sum(7, 8)\n",
    "print('sum is-', sum)\n",
    "#calling method with 3 args\n",
    "sum = od.sum(7, 8, 9)\n",
    "print('sum is-', sum)"
   ]
  },
  {
   "cell_type": "markdown",
   "metadata": {},
   "source": [
    "**Polymorphism through inheritance example**"
   ]
  },
  {
   "cell_type": "code",
   "execution_count": 22,
   "metadata": {},
   "outputs": [
    {
     "name": "stdout",
     "output_type": "stream",
     "text": [
      "In parent class displayData method\n",
      "Armen\n",
      "30\n",
      "In child class displayData method\n",
      "Anna\n",
      "40\n",
      "Chekhov\n",
      "In child class displayData method\n",
      "Karen\n",
      "50\n",
      "Wigmor\n",
      "\n",
      "*********\n",
      "\n",
      "In parent class displayData method\n",
      "Armen\n",
      "30\n",
      "None \n",
      "_______\n",
      "\n",
      "In child class displayData method\n",
      "Anna\n",
      "40\n",
      "Chekhov\n",
      "None \n",
      "_______\n",
      "\n",
      "In child class displayData method\n",
      "Karen\n",
      "50\n",
      "Wigmor\n",
      "None \n",
      "_______\n",
      "\n"
     ]
    }
   ],
   "source": [
    "class Person:\n",
    "    def __init__(self, name, age):\n",
    "        self.name = name\n",
    "        self.age = age\n",
    "\n",
    "    def displayData(self):\n",
    "        print('In parent class displayData method')\n",
    "        print(self.name)\n",
    "        print(self.age)\n",
    "\n",
    "class Teacher(Person):\n",
    "    def __init__(self, name, age, schoolname):\n",
    "        # calling constructor of super class\n",
    "        super().__init__(name, age)\n",
    "        self.school = schoolname\n",
    "\n",
    "    def displayData(self):\n",
    "        print('In child class displayData method')\n",
    "        print(self.name)\n",
    "        print(self.age)\n",
    "        print(self.school)\n",
    "\n",
    "class Doctor(Person):\n",
    "    def __init__(self, name, age, hospitalname):\n",
    "        # calling constructor of super class\n",
    "        super().__init__(name, age)\n",
    "        self.hospital = hospitalname\n",
    "\n",
    "    def displayData(self):\n",
    "        print('In child class displayData method')\n",
    "        print(self.name)\n",
    "        print(self.age)\n",
    "        print(self.hospital)\n",
    "        \n",
    "#Person class object\n",
    "person = Person('Armen', 30)\n",
    "person.displayData()\n",
    "#Teacher class object\n",
    "tch = Teacher('Anna', 40, 'Chekhov')\n",
    "tch.displayData()\n",
    "#Doctor class object\n",
    "doc = Doctor('Karen', 50, 'Wigmor')\n",
    "doc.displayData()\n",
    "\n",
    "print(\"\\n*********\\n\")\n",
    "lst = [person, tch, doc]\n",
    "for someone in lst:\n",
    "    print(someone.displayData(), '\\n_______\\n')"
   ]
  },
  {
   "cell_type": "markdown",
   "metadata": {},
   "source": [
    "**Polymorphism through operator overloading**\n",
    "\n",
    "Operator overloading means the ability to overload the operator to provide extra functionality in addition to its real operational meaning. Operator overloading is also an example of polymorphism as the same operator can perform different actions."
   ]
  },
  {
   "cell_type": "code",
   "execution_count": 23,
   "metadata": {},
   "outputs": [
    {
     "name": "stdout",
     "output_type": "stream",
     "text": [
      "12\n",
      "hello world\n",
      "[1, 2, 3, 4, 5, 6]\n"
     ]
    }
   ],
   "source": [
    "#using + operator with integers to add them\n",
    "print(5 + 7)\n",
    "#using + operator with Strings to concatenate them\n",
    "print('hello ' + 'world')\n",
    "a = [1, 2, 3]\n",
    "b = [4, 5, 6]\n",
    "# using + operator with List to concatenate them\n",
    "print(a + b)"
   ]
  },
  {
   "cell_type": "code",
   "execution_count": 24,
   "metadata": {},
   "outputs": [
    {
     "name": "stdout",
     "output_type": "stream",
     "text": [
      "(4, 6)\n"
     ]
    }
   ],
   "source": [
    "class Point:\n",
    "    def __init__(self, x, y):\n",
    "        self.x = x\n",
    "        self.y = y\n",
    "    #overriding magic method\n",
    "    def __add__(self, other):\n",
    "        return self.x + other.x, self.y + other.y\n",
    "\n",
    "p1 = Point(1, 2)\n",
    "p2 = Point(3, 4)\n",
    "\n",
    "print(p1+p2)"
   ]
  },
  {
   "cell_type": "markdown",
   "metadata": {},
   "source": [
    "## Abstract Class Examples"
   ]
  },
  {
   "cell_type": "code",
   "execution_count": 25,
   "metadata": {},
   "outputs": [
    {
     "name": "stdout",
     "output_type": "stream",
     "text": [
      "Credit card payment of-  100\n",
      "Purchase of amount-  100\n",
      "True\n",
      "Mobile wallet payment of-  200\n",
      "Purchase of amount-  200\n",
      "True\n"
     ]
    }
   ],
   "source": [
    "from abc import ABC, abstractmethod\n",
    "class Payment(ABC):\n",
    "    def print_slip(self, amount):\n",
    "        print('Purchase of amount- ', amount)\n",
    "    @abstractmethod\n",
    "    def payment(self, amount):\n",
    "        pass\n",
    "\n",
    "class CreditCardPayment(Payment):\n",
    "    def payment(self, amount):\n",
    "        print('Credit card payment of- ', amount)\n",
    "\n",
    "class MobileWalletPayment(Payment):\n",
    "    def payment(self, amount):\n",
    "        print('Mobile wallet payment of- ', amount)\n",
    "\n",
    "obj = CreditCardPayment()\n",
    "obj.payment(100)\n",
    "obj.print_slip(100)\n",
    "print(isinstance(obj, Payment))\n",
    "obj = MobileWalletPayment()\n",
    "obj.payment(200)\n",
    "obj.print_slip(200)\n",
    "print(isinstance(obj, Payment))"
   ]
  },
  {
   "cell_type": "code",
   "execution_count": 26,
   "metadata": {},
   "outputs": [
    {
     "name": "stdout",
     "output_type": "stream",
     "text": [
      "In common method of Parent\n",
      "In vary method of Child1\n",
      "In common method of Parent\n",
      "In vary method of Child2\n"
     ]
    }
   ],
   "source": [
    "from abc import ABC, abstractmethod\n",
    "class Parent(ABC):\n",
    "    #common functionality\n",
    "    def common(self):\n",
    "        print('In common method of Parent')\n",
    "    @abstractmethod\n",
    "    def vary(self):\n",
    "        pass\n",
    "\n",
    "class Child1(Parent):\n",
    "    def vary(self):\n",
    "        print('In vary method of Child1')\n",
    "\n",
    "class Child2(Parent):\n",
    "    def vary(self):\n",
    "        print('In vary method of Child2')\n",
    "\n",
    "# object of Child1 class\n",
    "obj = Child1()\n",
    "obj.common()\n",
    "obj.vary()\n",
    "# object of Child2 class\n",
    "obj = Child2()\n",
    "obj.common()\n",
    "obj.vary()"
   ]
  },
  {
   "cell_type": "markdown",
   "metadata": {},
   "source": [
    "#### with abstract method implementation in abstract class, without implementing it in child class"
   ]
  },
  {
   "cell_type": "code",
   "execution_count": 27,
   "metadata": {},
   "outputs": [
    {
     "ename": "TypeError",
     "evalue": "Can't instantiate abstract class Child with abstract methods vary",
     "output_type": "error",
     "traceback": [
      "\u001b[1;31m---------------------------------------------------------------------------\u001b[0m",
      "\u001b[1;31mTypeError\u001b[0m                                 Traceback (most recent call last)",
      "\u001b[1;32m<ipython-input-27-b4ce5e5ef2bf>\u001b[0m in \u001b[0;36m<module>\u001b[1;34m\u001b[0m\n\u001b[0;32m     12\u001b[0m \u001b[1;33m\u001b[0m\u001b[0m\n\u001b[0;32m     13\u001b[0m \u001b[1;31m# object of Child1 class\u001b[0m\u001b[1;33m\u001b[0m\u001b[1;33m\u001b[0m\u001b[0m\n\u001b[1;32m---> 14\u001b[1;33m \u001b[0mobj\u001b[0m \u001b[1;33m=\u001b[0m \u001b[0mChild\u001b[0m\u001b[1;33m(\u001b[0m\u001b[1;33m)\u001b[0m\u001b[1;33m\u001b[0m\u001b[0m\n\u001b[0m\u001b[0;32m     15\u001b[0m \u001b[0mobj\u001b[0m\u001b[1;33m.\u001b[0m\u001b[0mcommon\u001b[0m\u001b[1;33m(\u001b[0m\u001b[1;33m)\u001b[0m\u001b[1;33m\u001b[0m\u001b[0m\n\u001b[0;32m     16\u001b[0m \u001b[0mobj\u001b[0m\u001b[1;33m.\u001b[0m\u001b[0mvary\u001b[0m\u001b[1;33m(\u001b[0m\u001b[1;33m)\u001b[0m\u001b[1;33m\u001b[0m\u001b[0m\n",
      "\u001b[1;31mTypeError\u001b[0m: Can't instantiate abstract class Child with abstract methods vary"
     ]
    }
   ],
   "source": [
    "from abc import ABC, abstractmethod\n",
    "class Parent(ABC):\n",
    "    #common functionality\n",
    "    def common(self):\n",
    "        print('In common method of Parent')\n",
    "    @abstractmethod\n",
    "    def vary(self):\n",
    "        print('In vary method of Parent')\n",
    "\n",
    "class Child(Parent):\n",
    "    pass\n",
    "\n",
    "# object of Child1 class\n",
    "obj = Child()\n",
    "obj.common()\n",
    "obj.vary()"
   ]
  },
  {
   "cell_type": "markdown",
   "metadata": {},
   "source": [
    "#### implementing it in child class"
   ]
  },
  {
   "cell_type": "code",
   "execution_count": 28,
   "metadata": {},
   "outputs": [
    {
     "name": "stdout",
     "output_type": "stream",
     "text": [
      "In common method of Parent\n",
      "In vary method of Child\n"
     ]
    }
   ],
   "source": [
    "from abc import ABC, abstractmethod\n",
    "class Parent(ABC):\n",
    "    #common functionality\n",
    "    def common(self):\n",
    "        print('In common method of Parent')\n",
    "    @abstractmethod\n",
    "    def vary(self):\n",
    "        print('In vary method of Parent')\n",
    "\n",
    "class Child(Parent):\n",
    "    def vary(self):\n",
    "        print('In vary method of Child')\n",
    "\n",
    "# object of Child class\n",
    "obj = Child()\n",
    "obj.common()\n",
    "obj.vary()"
   ]
  },
  {
   "cell_type": "markdown",
   "metadata": {},
   "source": [
    "#### all abstract methods should be implemented"
   ]
  },
  {
   "cell_type": "code",
   "execution_count": 29,
   "metadata": {},
   "outputs": [
    {
     "ename": "TypeError",
     "evalue": "Can't instantiate abstract class Child with abstract methods test",
     "output_type": "error",
     "traceback": [
      "\u001b[1;31m---------------------------------------------------------------------------\u001b[0m",
      "\u001b[1;31mTypeError\u001b[0m                                 Traceback (most recent call last)",
      "\u001b[1;32m<ipython-input-29-1df34e7c5620>\u001b[0m in \u001b[0;36m<module>\u001b[1;34m\u001b[0m\n\u001b[0;32m     15\u001b[0m \u001b[1;33m\u001b[0m\u001b[0m\n\u001b[0;32m     16\u001b[0m \u001b[1;31m# object of Child class\u001b[0m\u001b[1;33m\u001b[0m\u001b[1;33m\u001b[0m\u001b[0m\n\u001b[1;32m---> 17\u001b[1;33m \u001b[0mobj\u001b[0m \u001b[1;33m=\u001b[0m \u001b[0mChild\u001b[0m\u001b[1;33m(\u001b[0m\u001b[1;33m)\u001b[0m\u001b[1;33m\u001b[0m\u001b[0m\n\u001b[0m\u001b[0;32m     18\u001b[0m \u001b[0mobj\u001b[0m\u001b[1;33m.\u001b[0m\u001b[0mcommon\u001b[0m\u001b[1;33m(\u001b[0m\u001b[1;33m)\u001b[0m\u001b[1;33m\u001b[0m\u001b[0m\n\u001b[0;32m     19\u001b[0m \u001b[0mobj\u001b[0m\u001b[1;33m.\u001b[0m\u001b[0mvary\u001b[0m\u001b[1;33m(\u001b[0m\u001b[1;33m)\u001b[0m\u001b[1;33m\u001b[0m\u001b[0m\n",
      "\u001b[1;31mTypeError\u001b[0m: Can't instantiate abstract class Child with abstract methods test"
     ]
    }
   ],
   "source": [
    "from abc import ABC, abstractmethod\n",
    "class Parent(ABC):\n",
    "    #common functionality\n",
    "    def common(self):\n",
    "       print('In common method of Parent')\n",
    "    @abstractmethod\n",
    "    def vary(self):\n",
    "        pass\n",
    "    @abstractmethod\n",
    "    def test(self):\n",
    "        pass\n",
    "class Child(Parent):\n",
    "    def vary(self):\n",
    "        print('In vary method of Child')\n",
    "\n",
    "# object of Child class\n",
    "obj = Child()\n",
    "obj.common()\n",
    "obj.vary()"
   ]
  },
  {
   "cell_type": "markdown",
   "metadata": {},
   "source": [
    "#### Instantiating abstract class in Pyhton"
   ]
  },
  {
   "cell_type": "markdown",
   "metadata": {},
   "source": [
    "Since abstract class are supposed to have abstract methods having no body so abstract classes are not considered as complete concrete classes, thus it is not possible to instantiate an abstract class."
   ]
  },
  {
   "cell_type": "code",
   "execution_count": 30,
   "metadata": {},
   "outputs": [
    {
     "ename": "TypeError",
     "evalue": "Can't instantiate abstract class Parent with abstract methods vary",
     "output_type": "error",
     "traceback": [
      "\u001b[1;31m---------------------------------------------------------------------------\u001b[0m",
      "\u001b[1;31mTypeError\u001b[0m                                 Traceback (most recent call last)",
      "\u001b[1;32m<ipython-input-30-66d4d8a0f552>\u001b[0m in \u001b[0;36m<module>\u001b[1;34m\u001b[0m\n\u001b[0;32m     16\u001b[0m \u001b[1;33m\u001b[0m\u001b[0m\n\u001b[0;32m     17\u001b[0m \u001b[1;31m# trying to instantiate abstract class\u001b[0m\u001b[1;33m\u001b[0m\u001b[1;33m\u001b[0m\u001b[0m\n\u001b[1;32m---> 18\u001b[1;33m \u001b[0mobj\u001b[0m \u001b[1;33m=\u001b[0m \u001b[0mParent\u001b[0m\u001b[1;33m(\u001b[0m\u001b[1;36m3\u001b[0m\u001b[1;33m)\u001b[0m\u001b[1;33m\u001b[0m\u001b[0m\n\u001b[0m\u001b[0;32m     19\u001b[0m \u001b[0mobj\u001b[0m\u001b[1;33m.\u001b[0m\u001b[0mcommon\u001b[0m\u001b[1;33m(\u001b[0m\u001b[1;33m)\u001b[0m\u001b[1;33m\u001b[0m\u001b[0m\n\u001b[0;32m     20\u001b[0m \u001b[0mobj\u001b[0m\u001b[1;33m.\u001b[0m\u001b[0mvary\u001b[0m\u001b[1;33m(\u001b[0m\u001b[1;33m)\u001b[0m\u001b[1;33m\u001b[0m\u001b[0m\n",
      "\u001b[1;31mTypeError\u001b[0m: Can't instantiate abstract class Parent with abstract methods vary"
     ]
    }
   ],
   "source": [
    "from abc import ABC, abstractmethod\n",
    "class Parent(ABC):\n",
    "    def __init__(self, value):\n",
    "        self.value = value;\n",
    "        super().__init__()\n",
    "    #common functionality\n",
    "    def common(self):\n",
    "        print('In common method of Parent', self.value)\n",
    "    @abstractmethod\n",
    "    def vary(self):\n",
    "        pass\n",
    "\n",
    "class Child(Parent):\n",
    "    def vary(self):\n",
    "        print('In vary method of Child')\n",
    "\n",
    "# trying to instantiate abstract class\n",
    "obj = Parent(3)\n",
    "obj.common()\n",
    "obj.vary()"
   ]
  },
  {
   "cell_type": "markdown",
   "metadata": {},
   "source": [
    "## Duck typing in Python\n",
    "\n",
    "If there is an object that can fly and quack like a duck then it must be a duck, this is duck typing principle followed in Python."
   ]
  },
  {
   "cell_type": "code",
   "execution_count": 31,
   "metadata": {},
   "outputs": [
    {
     "name": "stdout",
     "output_type": "stream",
     "text": [
      "Quack Quack\n",
      "Meow Meow\n",
      "Hey hello\n"
     ]
    }
   ],
   "source": [
    "class Duck:\n",
    "    def sound(self):\n",
    "        print('Quack Quack')\n",
    "\n",
    "class Cat:\n",
    "    def sound(self):\n",
    "        print('Meow Meow')\n",
    "\n",
    "class Human:\n",
    "    def sound(self):\n",
    "        print('Hey hello')\n",
    "\n",
    "class Test:\n",
    "    def invoke(self, obj):\n",
    "        obj.sound();\n",
    "\n",
    "t = Test()\n",
    "obj = Duck()\n",
    "t.invoke(obj)\n",
    "\n",
    "obj = Cat()\n",
    "t.invoke(obj)\n",
    "\n",
    "obj = Human()\n",
    "t.invoke(obj)"
   ]
  },
  {
   "cell_type": "markdown",
   "metadata": {},
   "source": []
  },
  {
   "cell_type": "markdown",
   "metadata": {},
   "source": [
    "used links\n",
    "\n",
    "https://medium.com/@manjuladube/encapsulation-abstraction-35999b0a3911\n",
    "\n",
    "https://netjs.blogspot.com/p/python-tutorial.html"
   ]
  }
 ],
 "metadata": {
  "kernelspec": {
   "display_name": "Python 3",
   "language": "python",
   "name": "python3"
  },
  "language_info": {
   "codemirror_mode": {
    "name": "ipython",
    "version": 3
   },
   "file_extension": ".py",
   "mimetype": "text/x-python",
   "name": "python",
   "nbconvert_exporter": "python",
   "pygments_lexer": "ipython3",
   "version": "3.6.5"
  }
 },
 "nbformat": 4,
 "nbformat_minor": 2
}

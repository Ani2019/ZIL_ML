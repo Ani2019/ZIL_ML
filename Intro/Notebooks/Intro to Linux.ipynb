{
 "cells": [
  {
   "cell_type": "markdown",
   "metadata": {},
   "source": [
    "![linux](../Images/linux_logo_small.jpg)"
   ]
  },
  {
   "cell_type": "markdown",
   "metadata": {},
   "source": [
    "# GNU/Linux is a free, open-source, Unix-like operating system."
   ]
  },
  {
   "cell_type": "markdown",
   "metadata": {},
   "source": [
    "There really is a Linux, and these people are using it, but it is just a part of the system they use. Linux is the kernel: the program in the system that allocates the machine's resources to the other programs that you run. The kernel is an essential part of an operating system, but useless by itself; it can only function in the context of a complete operating system. Linux is normally used in combination with the GNU operating system: the whole system is basically GNU with Linux added, or GNU/Linux. All the so-called “Linux” distributions are really distributions of GNU/Linux."
   ]
  },
  {
   "cell_type": "markdown",
   "metadata": {},
   "source": [
    "![linux_users](../Images/linux_distros.jpg)"
   ]
  },
  {
   "cell_type": "markdown",
   "metadata": {},
   "source": [
    "## What is a Linux Distribution?\n",
    "\n",
    "### Linux Kernel\n",
    "Originally developed by Linus Torvalds, the Linux kernel is the heart of a Linux distro. In fact, the kernel of any operating system is vital to its existence and operations. Numerous programmers contribute to the development of the Linux kernel but Torvalds still has great control when it comes to what changes should be made in a succeeding kernel update.\n",
    "\n",
    "### GNU Utilities\n",
    "Take the example of a notebook. In order to write something, you need a pencil. You can also use an eraser to erase what the text you’ve written and a highlighter. These can be thought of as various utilities that are required to use to make the best use of a notebook.\n",
    "\n",
    "In the case of Linux, GNU Utilities are the set of tools that are used to do various things, like, dealing with files, editing text, managing the system. Earlier, these tools came as separate packages – fileutils, extutils, shellutils — but recently, GNU has stuffed them into a single package known as coreutils.\n",
    "\n",
    "Now, talking about the shell, let’s go back to the example of the notebook. You were using various tools like pencil, eraser, and highlighter by holding them in your hands. So, you consider the shell as your hand that is used to apply those utilities to the Linux i.e. notebook. Shell–like bash–is the interface to implement the GNU utility tools. A shell can be a graphical shell or a command line-based shell where we can use these tools by typing appropriate commands.\n",
    "\n",
    "### Display Server\n",
    "The display server or window system is that software component that behaves as a middleman between the user and the Linux. Its main job is to deal with the input and output between the client applications (like Firefox, LibreOffice, etc.), the operating system, and the hardware using a display server protocol. In laymen terms, it is used to take inputs from keyboard, mouse, audio source, etc. It then presents the output in front of the user.\n",
    "\n",
    "Most commonly used display server is X.Org Server based on the X Windows System display server protocol. It is maintained by the X.org Foundation. Other popular (and newer) display servers are based on Wayland and Mir display server protocols.\n",
    "\n",
    "In the case of X Server, there is a separate component called Window Manager which is responsible for facilitating the areas where the content could be displayed on the screen by the applications. It allows various operations like moving, resizing, and reordering of the window components displayed on the screen. In the case of Wayland, the functionality of the display server and window manager is handled by the Wayland compositor.\n",
    "\n",
    "### Graphical User Interface\n",
    "GUI is a component which enables user interaction via graphically rich content displayed on a monitor in place of the command line interface (CLI) which was implemented in the past. CLI is used in server implementations of various Linux distributions. The GUI environment has been adopted over the years to facilitate ease of access to the users who are not comfortable with using the commands.\n",
    "\n",
    "The source code of all these basic components is available. To create a Linux distribution, a person, mainly a developer or a group of developers, has to club all the stuff. However, it’s not as easy as it sounds. It’s pretty hard to get the thing up and running properly.\n",
    "\n",
    "### Linux distros — things that make the difference\n",
    "The creators of a Linux distro generally put their own GUI environment–like Unity in Ubuntu, Cinnamon in Mint–and code some special tools to differentiate their distro from others. They also have the choice of putting the default web browser, whether Firefox or Chrome, choice of an office suite, music player, etc. Different Linux distros may use different types of package installers. They may restrict any closed source software from being included. Like in the case of Fedora which doesn’t put any proprietary software in its release. But since it’s a Linux under the skin, you can go ahead and install the desired software."
   ]
  },
  {
   "cell_type": "markdown",
   "metadata": {},
   "source": [
    "![linux_users](../Images/linux_users.webp)"
   ]
  },
  {
   "cell_type": "markdown",
   "metadata": {},
   "source": [
    "![linux_users](../Images/linux_system.jpg)"
   ]
  },
  {
   "cell_type": "markdown",
   "metadata": {},
   "source": [
    "## To sum up, once again... \n",
    "### To interact with kernel you need at least shell. This would make up a minimal OS which is called Command Line Interface (CLI) based Linux.\n",
    "### Nowadays most of the Linux Distros have Graphical User Interface (GUI). GUI is added on top of shell."
   ]
  },
  {
   "cell_type": "markdown",
   "metadata": {},
   "source": [
    "***"
   ]
  },
  {
   "cell_type": "markdown",
   "metadata": {},
   "source": [
    "# Windows VS Linux\n",
    "\n",
    "*check: https://www.guru99.com/linux-differences.html*"
   ]
  },
  {
   "cell_type": "markdown",
   "metadata": {},
   "source": [
    "### File System"
   ]
  },
  {
   "cell_type": "markdown",
   "metadata": {},
   "source": [
    "In **Microsoft Windows**, files are stored in folders on different data drives like C: D: E:\n",
    "\n",
    "But, in **Linux**, files are ordered in a tree structure starting with the root directory."
   ]
  },
  {
   "cell_type": "markdown",
   "metadata": {},
   "source": [
    "![linux_fs](../Images/linux_file_system_brief.png)"
   ]
  },
  {
   "cell_type": "markdown",
   "metadata": {},
   "source": [
    "**Let's check out [THIS](https://www.linux.com/tutorials/linux-filesystem-explained/) for deeper understanding.**"
   ]
  },
  {
   "cell_type": "markdown",
   "metadata": {},
   "source": [
    "### Types of Files"
   ]
  },
  {
   "cell_type": "markdown",
   "metadata": {},
   "source": [
    "In Linux and UNIX, **everything is a file**. Directories are files, files are files, and devices like Printer, mouse, keyboard etc.are files. All the file types have permissions, which allow a user to read, edit or execute (run) them. Only the Root User can change file permissions."
   ]
  },
  {
   "cell_type": "markdown",
   "metadata": {},
   "source": [
    "### Users"
   ]
  },
  {
   "cell_type": "markdown",
   "metadata": {},
   "source": [
    "There are 3 types of users in Linux.\n",
    "\n",
    "* Regular\n",
    "* Administrative (Root)\n",
    "* Service\n",
    "\n",
    "In Windows, there are 4 types of user account types.\n",
    "\n",
    "* Administrator\n",
    "* Standard\n",
    "* Child\n",
    "* Guest"
   ]
  },
  {
   "cell_type": "markdown",
   "metadata": {},
   "source": [
    "### File Name Convention"
   ]
  },
  {
   "cell_type": "markdown",
   "metadata": {},
   "source": [
    "In Windows\n",
    "![fn_win](../Images/file_name_win.png)\n",
    "In Linux\n",
    "![fn_win](../Images/file_name_linux.png)"
   ]
  },
  {
   "cell_type": "markdown",
   "metadata": {},
   "source": [
    "### HOME Directory"
   ]
  },
  {
   "cell_type": "markdown",
   "metadata": {},
   "source": [
    "In Windows you have  C:\\Documents <br>\n",
    "While in Linux it's like /home/taguhi or /home/garik"
   ]
  },
  {
   "cell_type": "markdown",
   "metadata": {},
   "source": [
    "### Other Directories"
   ]
  },
  {
   "cell_type": "markdown",
   "metadata": {},
   "source": [
    "In Windows, System and Program files are usually saved in C: drive. <br>\n",
    "But, in Linux, you would find the system and program files in different directories."
   ]
  },
  {
   "cell_type": "markdown",
   "metadata": {},
   "source": [
    "![linux_fs_all](../Images/linux_file_system_all.png)"
   ]
  },
  {
   "cell_type": "markdown",
   "metadata": {},
   "source": [
    "## To Sum Up"
   ]
  },
  {
   "cell_type": "markdown",
   "metadata": {},
   "source": [
    "**Key Differences Between Linux vs Windows**\n",
    "\n",
    "* Linux is open source operating system whereas Windows OS is commercial.\n",
    "* Linux has access to source code and alters the code as per user need whereas Windows does not have access to source code.\n",
    "* Linux will run faster than windows latest editions even with a modern desktop environment and features of the operating system whereas windows are slow on older hardware.\n",
    "* Linux distributions don’t collect user data whereas Windows collect all the user details which lead to privacy concern.\n",
    "* Linux is more reliable then windows as in Linux we can kill application if they hung through x kill command whereas, in windows, we need to try multiple times to kill it.\n",
    "* Linux supports a wide variety of free software’s than windows but windows have a large collection of video game software.\n",
    "* In Linux software cost is almost free as all programs, utilities, complex applications such as open office are free but windows also have many free programs and utilities but most of the programs are commercial.\n",
    "* Linux is highly secure because it’s easy to identify bugs and fix whereas Windows has a large user base and becomes a target for developers of viruses and malware.\n",
    "* Linux is used by corporate organizations as servers and operating system for security purpose at Google, Facebook, twitter etc. whereas windows are mostly used by gamers and business users.\n",
    "* Linux and windows have same priority over hardware and driver support in the present situation."
   ]
  },
  {
   "cell_type": "markdown",
   "metadata": {},
   "source": [
    "# Linux Main Commands"
   ]
  },
  {
   "cell_type": "markdown",
   "metadata": {},
   "source": [
    "Here are some tutorials, but you may find better ones if you just Google it:\n",
    "* https://tutorials.ubuntu.com/tutorial/command-line-for-beginners#0\n",
    "* https://www.guru99.com/must-know-linux-commands.html#2\n",
    "* https://maker.pro/linux/tutorial/basic-linux-commands-for-beginners"
   ]
  },
  {
   "cell_type": "markdown",
   "metadata": {},
   "source": [
    "And **DON'T PANIC**, you'll remember these commands only when you start using them :) Be patient and stay motivated!"
   ]
  },
  {
   "cell_type": "markdown",
   "metadata": {},
   "source": [
    "usefull links: \n",
    "* https://fossbytes.com/what-is-a-linux-distribution-how-linux-distros-are-different/\n",
    "* https://www.gnu.org/gnu/linux-and-gnu.en.html\n",
    "* https://www.guru99.com/linux-differences.html\n",
    "* https://www.linux.com/what-is-linux/"
   ]
  }
 ],
 "metadata": {
  "kernelspec": {
   "display_name": "Python 3",
   "language": "python",
   "name": "python3"
  },
  "language_info": {
   "codemirror_mode": {
    "name": "ipython",
    "version": 3
   },
   "file_extension": ".py",
   "mimetype": "text/x-python",
   "name": "python",
   "nbconvert_exporter": "python",
   "pygments_lexer": "ipython3",
   "version": "3.6.8"
  }
 },
 "nbformat": 4,
 "nbformat_minor": 2
}

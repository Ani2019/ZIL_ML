{
 "cells": [
  {
   "cell_type": "markdown",
   "metadata": {},
   "source": [
    "## Implement Newton's method with tf and visualize the process\n",
    "\n",
    "Check [Wikipedia](https://en.wikipedia.org/wiki/Newton%27s_method) and [chapter 8.6 Approximate Second-Order Methods](http://www.deeplearningbook.org/contents/optimization.html)."
   ]
  },
  {
   "cell_type": "markdown",
   "metadata": {},
   "source": [
    "Find roots with **Newton's method** for:\n",
    "\n",
    "\n",
    "1) $\\:f(x) = x\\,cos(x) - x^2 \\:\\:\\:  x_0 = 1$\n",
    "\n",
    "2) $\\:f(x) = x^3 - 7x^2 + 8x - 3 \\:\\:\\: x_0 = 5 $"
   ]
  },
  {
   "cell_type": "markdown",
   "metadata": {},
   "source": []
  },
  {
   "cell_type": "markdown",
   "metadata": {},
   "source": []
  }
 ],
 "metadata": {
  "kernelspec": {
   "display_name": "Python 3",
   "language": "python",
   "name": "python3"
  },
  "language_info": {
   "codemirror_mode": {
    "name": "ipython",
    "version": 3
   },
   "file_extension": ".py",
   "mimetype": "text/x-python",
   "name": "python",
   "nbconvert_exporter": "python",
   "pygments_lexer": "ipython3",
   "version": "3.6.9"
  }
 },
 "nbformat": 4,
 "nbformat_minor": 4
}

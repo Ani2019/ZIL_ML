{
 "cells": [
  {
   "cell_type": "markdown",
   "metadata": {},
   "source": [
    "### Imports"
   ]
  },
  {
   "cell_type": "code",
   "execution_count": null,
   "metadata": {},
   "outputs": [],
   "source": [
    "import numpy as np\n",
    "from sklearn import tree\n",
    "from collections import Counter\n",
    "import pandas as pd\n",
    "from sklearn.model_selection import train_test_split"
   ]
  },
  {
   "cell_type": "markdown",
   "metadata": {},
   "source": [
    "### Download Sonar Dataset"
   ]
  },
  {
   "cell_type": "code",
   "execution_count": null,
   "metadata": {
    "scrolled": true
   },
   "outputs": [],
   "source": [
    "path = \"https://archive.ics.uci.edu/ml/machine-learning-databases/undocumented/connectionist-bench/sonar/sonar.all-data\"\n",
    "names = ['col_'+str(i) for i in np.arange(61)]\n",
    "data = pd.read_csv(path, names = names)\n",
    "data.fillna(method='ffill', inplace=True)\n",
    "\n",
    "#TODO train, test split\n"
   ]
  },
  {
   "cell_type": "code",
   "execution_count": null,
   "metadata": {},
   "outputs": [],
   "source": [
    "from sklearn.tree import DecisionTreeClassifier as DecisionTree\n",
    "class RandomForest:\n",
    "    def __init__(self, \n",
    "                 max_depth=4,\n",
    "                 subsample_size=70,\n",
    "                 tree_count=5,\n",
    "                 criterion=\"gini\"):\n",
    "        self.trees = []\n",
    "        for i in range(tree_count):\n",
    "            self.trees.append(DecisionTree(criterion=criterion, max_depth=max_depth))\n",
    "    \n",
    "    def fit(self, X, Y):\n",
    "        for index, tree in enumerate(self.trees):\n",
    "            #TODO bootstrap X_part and Y_part for each tree\n",
    "            \n",
    "            self.trees[index].fit(X_part, Y_part)\n",
    "    \n",
    "    def predict(self, X):\n",
    "        predictions = []\n",
    "        for index, tree in enumerate(self.trees):\n",
    "            predictions.append(self.trees[index].predict(X))\n",
    "        #TODO combine and return y_pred\n",
    "        \n",
    "        return y_pred"
   ]
  },
  {
   "cell_type": "markdown",
   "metadata": {},
   "source": [
    "### Try on the sonar dataset"
   ]
  },
  {
   "cell_type": "code",
   "execution_count": null,
   "metadata": {},
   "outputs": [],
   "source": [
    "# TODO fit and predict on sonar dataset\n",
    "# TODO compare results with Y_test and print the accuracy"
   ]
  },
  {
   "cell_type": "markdown",
   "metadata": {},
   "source": [
    "### Try the Random Forest Implementation form Sklearn and compare results"
   ]
  },
  {
   "cell_type": "code",
   "execution_count": null,
   "metadata": {},
   "outputs": [],
   "source": []
  }
 ],
 "metadata": {
  "kernelspec": {
   "display_name": "Python 3",
   "language": "python",
   "name": "python3"
  },
  "language_info": {
   "codemirror_mode": {
    "name": "ipython",
    "version": 3
   },
   "file_extension": ".py",
   "mimetype": "text/x-python",
   "name": "python",
   "nbconvert_exporter": "python",
   "pygments_lexer": "ipython3",
   "version": "3.6.5"
  }
 },
 "nbformat": 4,
 "nbformat_minor": 2
}

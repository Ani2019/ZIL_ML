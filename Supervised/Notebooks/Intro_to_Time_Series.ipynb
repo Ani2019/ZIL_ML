{
 "cells": [
  {
   "cell_type": "markdown",
   "metadata": {},
   "source": [
    "# Introduction to time series"
   ]
  },
  {
   "cell_type": "markdown",
   "metadata": {},
   "source": [
    "A **time series** is a series of data points indexed (or listed or graphed) in time order.Time series adds an explicit order dependence between observations: a time dimension.\n",
    "\n",
    "![title](../Images/Y.svg?sanitize=true)\n"
   ]
  },
  {
   "cell_type": "markdown",
   "metadata": {},
   "source": [
    "Time series can have one or more variables that change over time.\n",
    "If there is only one variable varying over time, we call it **Univariate** time series.\n",
    "\n",
    "![title](../Images/uni_Ex.gif)\n"
   ]
  },
  {
   "cell_type": "markdown",
   "metadata": {},
   "source": [
    "<br> If there is more than one variable it is called **Multivariate** time series. <br>\n",
    "![title](../Images/multi_ex.png)\n"
   ]
  },
  {
   "cell_type": "markdown",
   "metadata": {},
   "source": [
    "## Time Series Tasks and Applications"
   ]
  },
  {
   "cell_type": "markdown",
   "metadata": {},
   "source": [
    "### Time series classification\n",
    "* Human activity recognition\n",
    "* Speech recognition\n",
    "![image.png](../Images/activity_rec.jpg)"
   ]
  },
  {
   "cell_type": "markdown",
   "metadata": {},
   "source": [
    "### Time series Forecasting\n",
    "Is about predicting the future as accurately as possible, given all of the information available, including historical data and knowledge of any future events that might impact the forecasts.\n",
    "![image.png](../Images/forecast.jpeg)"
   ]
  },
  {
   "cell_type": "markdown",
   "metadata": {},
   "source": [
    "more topics: http://pipiras.web.unc.edu/topics-in-time-series/"
   ]
  },
  {
   "cell_type": "markdown",
   "metadata": {},
   "source": [
    "##  Basic definition\n"
   ]
  },
  {
   "cell_type": "markdown",
   "metadata": {},
   "source": [
    "### Stationary and non stationary times series\n",
    "\n",
    "##### Stationary time series\n",
    "A stationary time series is one whose statistical properties such as mean, variance, autocorrelation, etc, do not depend upon time. A stationary series is relatively easy to predict: you simply forecast that its statistical properties will be the same in the future as they have been in the past. Thus, most statistical forecasting methods are based on the assumption that the time series are approximately stationary.\n",
    "most statistical forecasting methods assume that the series can be rendered (approximately) stationary through mathematical transformations.\n",
    "\n",
    "\n",
    "##### Non stationary time series\n",
    "Non-stationary series is one whose statistical properties change over time. There are an infinite number of ways for a time series to be non-stationarity, such as changing variance, level shifts, seasonality in the 6th moment, etc. Here are the most common non-stationarity patterns:\n",
    "\n",
    "![image.png](../Images/stationary1.png)"
   ]
  },
  {
   "cell_type": "markdown",
   "metadata": {},
   "source": [
    "more: https://towardsdatascience.com/stationarity-in-time-series-analysis-90c94f27322"
   ]
  },
  {
   "cell_type": "markdown",
   "metadata": {},
   "source": [
    "### Time series patterns\n",
    "##### Trend\n",
    "\n",
    "A trend exists when there is a long-term increase or decrease in the data. It does not have to be linear. Sometimes we will refer to a trend as “changing direction”, when it might go from an increasing trend to a decreasing trend.\n",
    "\n",
    "\n",
    "##### Seasonal\n",
    "A seasonal pattern occurs when a time series is affected by seasonal factors such as the time of the year or the day of the week. Seasonality is always of a fixed and known frequency. The monthly sales of antidiabetic drugs above shows seasonality which is induced partly by the change in the cost of the drugs at the end of the calendar year.\n",
    "\n",
    "##### Cyclic\n",
    "\n",
    "A cycle occurs when the data exhibit rises and falls that are not of a fixed frequency. These fluctuations are usually due to economic conditions, and are often related to the “business cycle”. The duration of these fluctuations is usually at least 2 years.\n",
    "\n"
   ]
  },
  {
   "cell_type": "markdown",
   "metadata": {},
   "source": [
    "![image.png](../Images/trend_mrend.png)"
   ]
  },
  {
   "cell_type": "markdown",
   "metadata": {},
   "source": [
    "### REFERANCES\n",
    "https://otexts.com/fpp2/planning.html\n",
    "\n",
    "https://en.wikipedia.org/wiki/Time_series\n",
    "\n",
    "https://towardsdatascience.com/time-series-introduction-7484bc25739a"
   ]
  },
  {
   "cell_type": "code",
   "execution_count": null,
   "metadata": {},
   "outputs": [],
   "source": []
  }
 ],
 "metadata": {
  "kernelspec": {
   "display_name": "order_forecast",
   "language": "python",
   "name": "order_forecast"
  },
  "language_info": {
   "codemirror_mode": {
    "name": "ipython",
    "version": 3
   },
   "file_extension": ".py",
   "mimetype": "text/x-python",
   "name": "python",
   "nbconvert_exporter": "python",
   "pygments_lexer": "ipython3",
   "version": "3.6.9"
  }
 },
 "nbformat": 4,
 "nbformat_minor": 2
}

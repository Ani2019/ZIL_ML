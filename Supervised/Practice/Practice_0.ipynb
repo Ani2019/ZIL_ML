{
 "cells": [
  {
   "cell_type": "markdown",
   "metadata": {},
   "source": [
    "# Yerevan House Price Prediction"
   ]
  },
  {
   "cell_type": "markdown",
   "metadata": {},
   "source": [
    "## Imports"
   ]
  },
  {
   "cell_type": "code",
   "execution_count": 4,
   "metadata": {},
   "outputs": [],
   "source": [
    "import pandas as pd\n",
    "import numpy as np\n",
    "import matplotlib.pyplot as plt"
   ]
  },
  {
   "cell_type": "code",
   "execution_count": 3,
   "metadata": {},
   "outputs": [
    {
     "data": {
      "text/html": [
       "<div>\n",
       "<style scoped>\n",
       "    .dataframe tbody tr th:only-of-type {\n",
       "        vertical-align: middle;\n",
       "    }\n",
       "\n",
       "    .dataframe tbody tr th {\n",
       "        vertical-align: top;\n",
       "    }\n",
       "\n",
       "    .dataframe thead th {\n",
       "        text-align: right;\n",
       "    }\n",
       "</style>\n",
       "<table border=\"1\" class=\"dataframe\">\n",
       "  <thead>\n",
       "    <tr style=\"text-align: right;\">\n",
       "      <th></th>\n",
       "      <th>Unnamed: 0</th>\n",
       "      <th>price</th>\n",
       "      <th>condition</th>\n",
       "      <th>district</th>\n",
       "      <th>max_floor</th>\n",
       "      <th>street</th>\n",
       "      <th>num_rooms</th>\n",
       "      <th>region</th>\n",
       "      <th>area</th>\n",
       "      <th>url</th>\n",
       "      <th>num_bathrooms</th>\n",
       "      <th>building_type</th>\n",
       "      <th>floor</th>\n",
       "      <th>ceiling_height</th>\n",
       "    </tr>\n",
       "  </thead>\n",
       "  <tbody>\n",
       "    <tr>\n",
       "      <th>0</th>\n",
       "      <td>0</td>\n",
       "      <td>65000.0</td>\n",
       "      <td>good</td>\n",
       "      <td>Center</td>\n",
       "      <td>9</td>\n",
       "      <td>Vardanants St</td>\n",
       "      <td>3</td>\n",
       "      <td>Yerevan</td>\n",
       "      <td>80.0</td>\n",
       "      <td>http://www.myrealty.am/en/item/24032/3-senyaka...</td>\n",
       "      <td>1</td>\n",
       "      <td>panel</td>\n",
       "      <td>4</td>\n",
       "      <td>2.8</td>\n",
       "    </tr>\n",
       "    <tr>\n",
       "      <th>1</th>\n",
       "      <td>1</td>\n",
       "      <td>140000.0</td>\n",
       "      <td>newly repaired</td>\n",
       "      <td>Arabkir</td>\n",
       "      <td>10</td>\n",
       "      <td>Hr.Kochar St</td>\n",
       "      <td>4</td>\n",
       "      <td>Yerevan</td>\n",
       "      <td>115.0</td>\n",
       "      <td>http://www.myrealty.am/en/item/17599/4-senyaka...</td>\n",
       "      <td>1</td>\n",
       "      <td>monolit</td>\n",
       "      <td>2</td>\n",
       "      <td>3.0</td>\n",
       "    </tr>\n",
       "    <tr>\n",
       "      <th>2</th>\n",
       "      <td>2</td>\n",
       "      <td>97000.0</td>\n",
       "      <td>newly repaired</td>\n",
       "      <td>Center</td>\n",
       "      <td>10</td>\n",
       "      <td>Teryan St</td>\n",
       "      <td>2</td>\n",
       "      <td>Yerevan</td>\n",
       "      <td>72.0</td>\n",
       "      <td>http://www.myrealty.am/en/item/29472/2-senyaka...</td>\n",
       "      <td>1</td>\n",
       "      <td>panel</td>\n",
       "      <td>3</td>\n",
       "      <td>2.8</td>\n",
       "    </tr>\n",
       "    <tr>\n",
       "      <th>3</th>\n",
       "      <td>3</td>\n",
       "      <td>47000.0</td>\n",
       "      <td>good</td>\n",
       "      <td>Center</td>\n",
       "      <td>9</td>\n",
       "      <td>D. Demirchyan St</td>\n",
       "      <td>1</td>\n",
       "      <td>Yerevan</td>\n",
       "      <td>43.0</td>\n",
       "      <td>http://www.myrealty.am/en/item/37186/1-senyaka...</td>\n",
       "      <td>1</td>\n",
       "      <td>panel</td>\n",
       "      <td>9</td>\n",
       "      <td>2.8</td>\n",
       "    </tr>\n",
       "    <tr>\n",
       "      <th>4</th>\n",
       "      <td>4</td>\n",
       "      <td>51000.0</td>\n",
       "      <td>newly repaired</td>\n",
       "      <td>Center</td>\n",
       "      <td>14</td>\n",
       "      <td>Sayat Nova Ave</td>\n",
       "      <td>1</td>\n",
       "      <td>Yerevan</td>\n",
       "      <td>33.0</td>\n",
       "      <td>http://www.myrealty.am/en/item/37184/1-senyaka...</td>\n",
       "      <td>1</td>\n",
       "      <td>other</td>\n",
       "      <td>4</td>\n",
       "      <td>2.8</td>\n",
       "    </tr>\n",
       "  </tbody>\n",
       "</table>\n",
       "</div>"
      ],
      "text/plain": [
       "   Unnamed: 0     price       condition district  max_floor            street  \\\n",
       "0           0   65000.0            good   Center          9     Vardanants St   \n",
       "1           1  140000.0  newly repaired  Arabkir         10      Hr.Kochar St   \n",
       "2           2   97000.0  newly repaired   Center         10         Teryan St   \n",
       "3           3   47000.0            good   Center          9  D. Demirchyan St   \n",
       "4           4   51000.0  newly repaired   Center         14    Sayat Nova Ave   \n",
       "\n",
       "   num_rooms   region   area  \\\n",
       "0          3  Yerevan   80.0   \n",
       "1          4  Yerevan  115.0   \n",
       "2          2  Yerevan   72.0   \n",
       "3          1  Yerevan   43.0   \n",
       "4          1  Yerevan   33.0   \n",
       "\n",
       "                                                 url  num_bathrooms  \\\n",
       "0  http://www.myrealty.am/en/item/24032/3-senyaka...              1   \n",
       "1  http://www.myrealty.am/en/item/17599/4-senyaka...              1   \n",
       "2  http://www.myrealty.am/en/item/29472/2-senyaka...              1   \n",
       "3  http://www.myrealty.am/en/item/37186/1-senyaka...              1   \n",
       "4  http://www.myrealty.am/en/item/37184/1-senyaka...              1   \n",
       "\n",
       "  building_type  floor  ceiling_height  \n",
       "0         panel      4             2.8  \n",
       "1       monolit      2             3.0  \n",
       "2         panel      3             2.8  \n",
       "3         panel      9             2.8  \n",
       "4         other      4             2.8  "
      ]
     },
     "execution_count": 3,
     "metadata": {},
     "output_type": "execute_result"
    }
   ],
   "source": [
    "data = pd.read_csv(\"../../Intro/Data/yerevan_houses.csv\")\n",
    "data.head()"
   ]
  },
  {
   "cell_type": "markdown",
   "metadata": {},
   "source": [
    "### Split into train test"
   ]
  },
  {
   "cell_type": "code",
   "execution_count": null,
   "metadata": {},
   "outputs": [],
   "source": [
    "# code here"
   ]
  },
  {
   "cell_type": "markdown",
   "metadata": {},
   "source": [
    "### Fit linear regression with area "
   ]
  },
  {
   "cell_type": "code",
   "execution_count": null,
   "metadata": {},
   "outputs": [],
   "source": [
    "# code here"
   ]
  },
  {
   "cell_type": "markdown",
   "metadata": {},
   "source": [
    "### Plot fited line and points, calculate loss and R^2"
   ]
  },
  {
   "cell_type": "code",
   "execution_count": null,
   "metadata": {},
   "outputs": [],
   "source": [
    "# code here"
   ]
  },
  {
   "cell_type": "markdown",
   "metadata": {},
   "source": [
    "### And new features, use pd.get_dumies for vectorization categorical variables"
   ]
  },
  {
   "cell_type": "code",
   "execution_count": null,
   "metadata": {},
   "outputs": [],
   "source": [
    "# code here"
   ]
  },
  {
   "cell_type": "markdown",
   "metadata": {},
   "source": [
    "### Fit with new features, calculate loss and R^2"
   ]
  },
  {
   "cell_type": "code",
   "execution_count": null,
   "metadata": {},
   "outputs": [],
   "source": [
    "# code here"
   ]
  },
  {
   "cell_type": "markdown",
   "metadata": {},
   "source": [
    "### Standartize features and fit again"
   ]
  },
  {
   "cell_type": "code",
   "execution_count": null,
   "metadata": {},
   "outputs": [],
   "source": [
    "# code here"
   ]
  },
  {
   "cell_type": "markdown",
   "metadata": {},
   "source": [
    "### Try same with polynomial regression, monitor loss and choose best degree for polynomial regression"
   ]
  },
  {
   "cell_type": "code",
   "execution_count": null,
   "metadata": {},
   "outputs": [],
   "source": [
    "# code here"
   ]
  }
 ],
 "metadata": {
  "kernelspec": {
   "display_name": "menumend",
   "language": "python",
   "name": "menumend"
  },
  "language_info": {
   "codemirror_mode": {
    "name": "ipython",
    "version": 3
   },
   "file_extension": ".py",
   "mimetype": "text/x-python",
   "name": "python",
   "nbconvert_exporter": "python",
   "pygments_lexer": "ipython3",
   "version": "3.6.7"
  }
 },
 "nbformat": 4,
 "nbformat_minor": 2
}

{
 "cells": [
  {
   "cell_type": "markdown",
   "metadata": {},
   "source": [
    "# Imports\n"
   ]
  },
  {
   "cell_type": "code",
   "execution_count": 2,
   "metadata": {},
   "outputs": [],
   "source": [
    "import numpy as np \n",
    "import pandas as pd \n",
    "import matplotlib.pyplot as plt "
   ]
  },
  {
   "cell_type": "markdown",
   "metadata": {},
   "source": [
    "## Implement K-nn classifier"
   ]
  },
  {
   "cell_type": "code",
   "execution_count": 3,
   "metadata": {},
   "outputs": [],
   "source": [
    "class KNN_Classifier():\n",
    "    def __init__(self,k=10,metric=\"euclid\",metric_params=None):\n",
    "        \"\"\"\n",
    "        Initilize k and distance metrics\n",
    "        \"\"\"\n",
    "        pass\n",
    "    \n",
    "    @staticmethod\n",
    "    def euclidian_distance(x,y):\n",
    "        \"\"\"\n",
    "        Calculate euclidian distance\n",
    "        \"\"\"\n",
    "        pass\n",
    "    \n",
    "    @staticmethod\n",
    "    def mincowski_distance(x,y):\n",
    "        \"\"\"\n",
    "        Calculate mincowski distance\n",
    "        \"\"\"\n",
    "        pass\n",
    "    \n",
    "    def fit(X_train,y_train):\n",
    "        \"\"\"\n",
    "        Just remember the data\n",
    "        \"\"\"\n",
    "        pass\n",
    "    \n",
    "    def predict(X_test):\n",
    "        \"\"\"\n",
    "        Finde K nearest neighbours  and return the mode of the K labels\n",
    "        \"\"\"\n",
    "        pass\n",
    "    \n",
    "    def score(X,y):\n",
    "        \"\"\"\n",
    "        Calculate accuracy score\n",
    "        \"\"\"\n",
    "        pass\n",
    "    "
   ]
  },
  {
   "cell_type": "markdown",
   "metadata": {},
   "source": [
    "### Generate dataset and test results"
   ]
  },
  {
   "cell_type": "code",
   "execution_count": null,
   "metadata": {},
   "outputs": [],
   "source": []
  }
 ],
 "metadata": {
  "kernelspec": {
   "display_name": "Python 3",
   "language": "python",
   "name": "python3"
  },
  "language_info": {
   "codemirror_mode": {
    "name": "ipython",
    "version": 3
   },
   "file_extension": ".py",
   "mimetype": "text/x-python",
   "name": "python",
   "nbconvert_exporter": "python",
   "pygments_lexer": "ipython3",
   "version": "3.6.9"
  }
 },
 "nbformat": 4,
 "nbformat_minor": 2
}

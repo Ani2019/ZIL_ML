{
 "cells": [
  {
   "cell_type": "code",
   "execution_count": null,
   "metadata": {},
   "outputs": [],
   "source": [
    "class LogisticRegression:\n",
    "    \"\"\"\n",
    "    Logistic Regression Class\n",
    "\n",
    "    \"\"\"\n",
    "\n",
    "    def __init__(self):\n",
    "        \"\"\"\n",
    "        Init method\n",
    "        \"\"\"\n",
    "        self.betta = None\n",
    "        self.alpha = None\n",
    "\n",
    "        \n",
    "    def sigmoid(self, x):\n",
    "        \"\"\"\n",
    "        :param x: 1D-array, features vector for one sample\n",
    "        :return: sigmoid (logistic) of (X,b)\n",
    "        \"\"\"\n",
    "        pass\n",
    "    \n",
    "\n",
    "    def grad(self, X, Y):\n",
    "        \"\"\"\n",
    "        Gradient of log-loss for one sample\n",
    "        :param y: label of the sample (1 or -1)\n",
    "        :param x: 1D-array, features vector for the sample\n",
    "        \"\"\"\n",
    "        pass\n",
    "\n",
    "\n",
    "    def fit(self, X, Y, alpha):\n",
    "        \"\"\"\n",
    "        Finding optimal bettas.\n",
    "        :param X: (np.array,n*p) features\n",
    "        :param Y: (np.array,n*1) target\n",
    "        :param alpha: (float) learning rate\n",
    "        \"\"\"\n",
    "        pass\n",
    "\n",
    "    def predict(self, X):\n",
    "        \"\"\"\n",
    "        Make prediction with fitted bettas \n",
    "        :param X: (np.array,n*p) features\n",
    "        :return: Y_pred (np.array,n*1) predictions\n",
    "        \"\"\"\n",
    "        pass\n",
    "\n",
    "    def loss(self, X, Y):\n",
    "        \"\"\"\n",
    "        Method for calculation current loss\n",
    "        :param X: (np.array,n*p) features\n",
    "        :param Y: (np.array,n*1) labels\n",
    "        :return: Loss\n",
    "        \"\"\"\n",
    "        pass"
   ]
  },
  {
   "cell_type": "markdown",
   "metadata": {},
   "source": [
    "TODO:"
   ]
  },
  {
   "cell_type": "markdown",
   "metadata": {},
   "source": [
    "<img src=\"../Images/decision_boundary.png\" alt=\"DecisionBoundary\" width=\"500\"/>"
   ]
  },
  {
   "cell_type": "markdown",
   "metadata": {},
   "source": [
    "<img src=\"../Images/loss_iter.png\" alt=\"LossIter\" width=\"500\"/>"
   ]
  },
  {
   "cell_type": "code",
   "execution_count": null,
   "metadata": {},
   "outputs": [],
   "source": []
  }
 ],
 "metadata": {
  "kernelspec": {
   "display_name": "Python 3",
   "language": "python",
   "name": "python3"
  },
  "language_info": {
   "codemirror_mode": {
    "name": "ipython",
    "version": 3
   },
   "file_extension": ".py",
   "mimetype": "text/x-python",
   "name": "python",
   "nbconvert_exporter": "python",
   "pygments_lexer": "ipython3",
   "version": "3.6.4"
  }
 },
 "nbformat": 4,
 "nbformat_minor": 2
}

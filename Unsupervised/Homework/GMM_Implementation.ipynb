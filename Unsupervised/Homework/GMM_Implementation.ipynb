{
 "cells": [
  {
   "cell_type": "markdown",
   "metadata": {},
   "source": [
    "# Imports"
   ]
  },
  {
   "cell_type": "code",
   "execution_count": 1,
   "metadata": {},
   "outputs": [],
   "source": [
    "import pandas as pd\n",
    "import numpy as np \n",
    "import matplotlib.pyplot as plt "
   ]
  },
  {
   "cell_type": "markdown",
   "metadata": {},
   "source": [
    "# Implemenet GMM"
   ]
  },
  {
   "cell_type": "code",
   "execution_count": 2,
   "metadata": {},
   "outputs": [],
   "source": [
    "class GMM:\n",
    "    def __init__(self, k, k_means=True):\n",
    "        \"\"\"\n",
    "        Init method\n",
    "        param k: number of clusters\n",
    "        param k_means(bool): use k-means for means init or not \n",
    "        \"\"\"\n",
    "        self.k = k\n",
    "        self.k_means = k_means\n",
    "        self.means = []\n",
    "        \n",
    "        self.covs = []\n",
    "        self.pis = []\n",
    "        self.gammas = []\n",
    "    \n",
    "    \n",
    "    def e_step(self,X):\n",
    "        \"\"\"\n",
    "        Implement E-step(calculate gammas)\n",
    "        use from scipy.stats import multivariate_normal\n",
    "        \"\"\"\n",
    "        pass\n",
    "    \n",
    "    def m_step(self,X):\n",
    "        \"\"\"\n",
    "        M-step (update means,pis,covs)\n",
    "        \"\"\"\n",
    "        pass\n",
    "    \n",
    "        \n",
    "    def fit(self,X):\n",
    "        \"\"\"\n",
    "        Main fit method.Need to\n",
    "        1. Initialize means, pis, covs\n",
    "        2. E-step (calculate gammas)\n",
    "        3. M-step (update means,pis,covs)\n",
    "        4. Repeat to converge(means dosent not change, or loss dosent not)\n",
    "        \"\"\"\n",
    "        pass\n",
    "    \n",
    "    def predict(self,X):\n",
    "        \"\"\"\n",
    "        Calculate probabilites(gammas) for new X \n",
    "        param X(nd array): input dataset\n",
    "        \"\"\"\n",
    "        pass\n",
    "    \n",
    "    def log_likelihood(self,X):\n",
    "        \"\"\"\n",
    "        Calculate and return log-likelihood\n",
    "        param X(nd array): input dataset\n",
    "        \"\"\"\n",
    "        pass"
   ]
  },
  {
   "cell_type": "code",
   "execution_count": null,
   "metadata": {},
   "outputs": [],
   "source": []
  }
 ],
 "metadata": {
  "kernelspec": {
   "display_name": "Python 3",
   "language": "python",
   "name": "python3"
  },
  "language_info": {
   "codemirror_mode": {
    "name": "ipython",
    "version": 3
   },
   "file_extension": ".py",
   "mimetype": "text/x-python",
   "name": "python",
   "nbconvert_exporter": "python",
   "pygments_lexer": "ipython3",
   "version": "3.6.9"
  }
 },
 "nbformat": 4,
 "nbformat_minor": 2
}
